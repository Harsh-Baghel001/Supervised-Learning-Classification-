{
 "cells": [
  {
   "cell_type": "code",
   "execution_count": 1,
   "id": "13ed6223",
   "metadata": {},
   "outputs": [],
   "source": [
    "import numpy as np\n",
    "import pandas as pd \n",
    "import scipy.stats as stats\n",
    "import warnings\n",
    "warnings.filterwarnings('ignore')\n"
   ]
  },
  {
   "cell_type": "code",
   "execution_count": 2,
   "id": "f1bf1913",
   "metadata": {},
   "outputs": [],
   "source": [
    "train = pd.read_csv('train.csv')\n",
    "test = pd.read_csv('test.csv')"
   ]
  },
  {
   "cell_type": "code",
   "execution_count": 3,
   "id": "1f6ba43a",
   "metadata": {},
   "outputs": [
    {
     "data": {
      "text/html": [
       "<div>\n",
       "<style scoped>\n",
       "    .dataframe tbody tr th:only-of-type {\n",
       "        vertical-align: middle;\n",
       "    }\n",
       "\n",
       "    .dataframe tbody tr th {\n",
       "        vertical-align: top;\n",
       "    }\n",
       "\n",
       "    .dataframe thead th {\n",
       "        text-align: right;\n",
       "    }\n",
       "</style>\n",
       "<table border=\"1\" class=\"dataframe\">\n",
       "  <thead>\n",
       "    <tr style=\"text-align: right;\">\n",
       "      <th></th>\n",
       "      <th>PassengerId</th>\n",
       "      <th>Survived</th>\n",
       "      <th>Pclass</th>\n",
       "      <th>Name</th>\n",
       "      <th>Sex</th>\n",
       "      <th>Age</th>\n",
       "      <th>SibSp</th>\n",
       "      <th>Parch</th>\n",
       "      <th>Ticket</th>\n",
       "      <th>Fare</th>\n",
       "      <th>Cabin</th>\n",
       "      <th>Embarked</th>\n",
       "    </tr>\n",
       "  </thead>\n",
       "  <tbody>\n",
       "    <tr>\n",
       "      <th>0</th>\n",
       "      <td>1</td>\n",
       "      <td>0</td>\n",
       "      <td>3</td>\n",
       "      <td>Braund, Mr. Owen Harris</td>\n",
       "      <td>male</td>\n",
       "      <td>22.0</td>\n",
       "      <td>1</td>\n",
       "      <td>0</td>\n",
       "      <td>A/5 21171</td>\n",
       "      <td>7.2500</td>\n",
       "      <td>NaN</td>\n",
       "      <td>S</td>\n",
       "    </tr>\n",
       "    <tr>\n",
       "      <th>1</th>\n",
       "      <td>2</td>\n",
       "      <td>1</td>\n",
       "      <td>1</td>\n",
       "      <td>Cumings, Mrs. John Bradley (Florence Briggs Th...</td>\n",
       "      <td>female</td>\n",
       "      <td>38.0</td>\n",
       "      <td>1</td>\n",
       "      <td>0</td>\n",
       "      <td>PC 17599</td>\n",
       "      <td>71.2833</td>\n",
       "      <td>C85</td>\n",
       "      <td>C</td>\n",
       "    </tr>\n",
       "    <tr>\n",
       "      <th>2</th>\n",
       "      <td>3</td>\n",
       "      <td>1</td>\n",
       "      <td>3</td>\n",
       "      <td>Heikkinen, Miss. Laina</td>\n",
       "      <td>female</td>\n",
       "      <td>26.0</td>\n",
       "      <td>0</td>\n",
       "      <td>0</td>\n",
       "      <td>STON/O2. 3101282</td>\n",
       "      <td>7.9250</td>\n",
       "      <td>NaN</td>\n",
       "      <td>S</td>\n",
       "    </tr>\n",
       "  </tbody>\n",
       "</table>\n",
       "</div>"
      ],
      "text/plain": [
       "   PassengerId  Survived  Pclass  \\\n",
       "0            1         0       3   \n",
       "1            2         1       1   \n",
       "2            3         1       3   \n",
       "\n",
       "                                                Name     Sex   Age  SibSp  \\\n",
       "0                            Braund, Mr. Owen Harris    male  22.0      1   \n",
       "1  Cumings, Mrs. John Bradley (Florence Briggs Th...  female  38.0      1   \n",
       "2                             Heikkinen, Miss. Laina  female  26.0      0   \n",
       "\n",
       "   Parch            Ticket     Fare Cabin Embarked  \n",
       "0      0         A/5 21171   7.2500   NaN        S  \n",
       "1      0          PC 17599  71.2833   C85        C  \n",
       "2      0  STON/O2. 3101282   7.9250   NaN        S  "
      ]
     },
     "execution_count": 3,
     "metadata": {},
     "output_type": "execute_result"
    }
   ],
   "source": [
    "train.head(3)"
   ]
  },
  {
   "cell_type": "code",
   "execution_count": 4,
   "id": "ec49872b",
   "metadata": {},
   "outputs": [
    {
     "data": {
      "text/plain": [
       "(418, 11)"
      ]
     },
     "execution_count": 4,
     "metadata": {},
     "output_type": "execute_result"
    }
   ],
   "source": [
    "test.shape"
   ]
  },
  {
   "cell_type": "code",
   "execution_count": 5,
   "id": "1fcc6e3b",
   "metadata": {},
   "outputs": [
    {
     "data": {
      "text/plain": [
       "(891, 12)"
      ]
     },
     "execution_count": 5,
     "metadata": {},
     "output_type": "execute_result"
    }
   ],
   "source": [
    "train.shape"
   ]
  },
  {
   "cell_type": "markdown",
   "id": "89c878e3",
   "metadata": {},
   "source": [
    "* Feature engg\n",
    "* Missing values\n",
    "* One Hot encoding"
   ]
  },
  {
   "cell_type": "code",
   "execution_count": 6,
   "id": "a781b507",
   "metadata": {},
   "outputs": [],
   "source": [
    "combined = pd.concat([train,test],ignore_index=True)"
   ]
  },
  {
   "cell_type": "code",
   "execution_count": 7,
   "id": "bcbb61f4",
   "metadata": {},
   "outputs": [
    {
     "data": {
      "text/html": [
       "<div>\n",
       "<style scoped>\n",
       "    .dataframe tbody tr th:only-of-type {\n",
       "        vertical-align: middle;\n",
       "    }\n",
       "\n",
       "    .dataframe tbody tr th {\n",
       "        vertical-align: top;\n",
       "    }\n",
       "\n",
       "    .dataframe thead th {\n",
       "        text-align: right;\n",
       "    }\n",
       "</style>\n",
       "<table border=\"1\" class=\"dataframe\">\n",
       "  <thead>\n",
       "    <tr style=\"text-align: right;\">\n",
       "      <th></th>\n",
       "      <th>PassengerId</th>\n",
       "      <th>Survived</th>\n",
       "      <th>Pclass</th>\n",
       "      <th>Name</th>\n",
       "      <th>Sex</th>\n",
       "      <th>Age</th>\n",
       "      <th>SibSp</th>\n",
       "      <th>Parch</th>\n",
       "      <th>Ticket</th>\n",
       "      <th>Fare</th>\n",
       "      <th>Cabin</th>\n",
       "      <th>Embarked</th>\n",
       "    </tr>\n",
       "  </thead>\n",
       "  <tbody>\n",
       "    <tr>\n",
       "      <th>0</th>\n",
       "      <td>1</td>\n",
       "      <td>0.0</td>\n",
       "      <td>3</td>\n",
       "      <td>Braund, Mr. Owen Harris</td>\n",
       "      <td>male</td>\n",
       "      <td>22.0</td>\n",
       "      <td>1</td>\n",
       "      <td>0</td>\n",
       "      <td>A/5 21171</td>\n",
       "      <td>7.2500</td>\n",
       "      <td>NaN</td>\n",
       "      <td>S</td>\n",
       "    </tr>\n",
       "    <tr>\n",
       "      <th>1</th>\n",
       "      <td>2</td>\n",
       "      <td>1.0</td>\n",
       "      <td>1</td>\n",
       "      <td>Cumings, Mrs. John Bradley (Florence Briggs Th...</td>\n",
       "      <td>female</td>\n",
       "      <td>38.0</td>\n",
       "      <td>1</td>\n",
       "      <td>0</td>\n",
       "      <td>PC 17599</td>\n",
       "      <td>71.2833</td>\n",
       "      <td>C85</td>\n",
       "      <td>C</td>\n",
       "    </tr>\n",
       "    <tr>\n",
       "      <th>2</th>\n",
       "      <td>3</td>\n",
       "      <td>1.0</td>\n",
       "      <td>3</td>\n",
       "      <td>Heikkinen, Miss. Laina</td>\n",
       "      <td>female</td>\n",
       "      <td>26.0</td>\n",
       "      <td>0</td>\n",
       "      <td>0</td>\n",
       "      <td>STON/O2. 3101282</td>\n",
       "      <td>7.9250</td>\n",
       "      <td>NaN</td>\n",
       "      <td>S</td>\n",
       "    </tr>\n",
       "  </tbody>\n",
       "</table>\n",
       "</div>"
      ],
      "text/plain": [
       "   PassengerId  Survived  Pclass  \\\n",
       "0            1       0.0       3   \n",
       "1            2       1.0       1   \n",
       "2            3       1.0       3   \n",
       "\n",
       "                                                Name     Sex   Age  SibSp  \\\n",
       "0                            Braund, Mr. Owen Harris    male  22.0      1   \n",
       "1  Cumings, Mrs. John Bradley (Florence Briggs Th...  female  38.0      1   \n",
       "2                             Heikkinen, Miss. Laina  female  26.0      0   \n",
       "\n",
       "   Parch            Ticket     Fare Cabin Embarked  \n",
       "0      0         A/5 21171   7.2500   NaN        S  \n",
       "1      0          PC 17599  71.2833   C85        C  \n",
       "2      0  STON/O2. 3101282   7.9250   NaN        S  "
      ]
     },
     "execution_count": 7,
     "metadata": {},
     "output_type": "execute_result"
    }
   ],
   "source": [
    "combined.head(3)"
   ]
  },
  {
   "cell_type": "code",
   "execution_count": 8,
   "id": "e2e1a56c",
   "metadata": {},
   "outputs": [
    {
     "data": {
      "text/plain": [
       "PassengerId       0\n",
       "Survived        418\n",
       "Pclass            0\n",
       "Name              0\n",
       "Sex               0\n",
       "Age             263\n",
       "SibSp             0\n",
       "Parch             0\n",
       "Ticket            0\n",
       "Fare              1\n",
       "Cabin          1014\n",
       "Embarked          2\n",
       "dtype: int64"
      ]
     },
     "execution_count": 8,
     "metadata": {},
     "output_type": "execute_result"
    }
   ],
   "source": [
    "combined.isna().sum()"
   ]
  },
  {
   "cell_type": "code",
   "execution_count": 9,
   "id": "c6b92f59",
   "metadata": {},
   "outputs": [
    {
     "data": {
      "text/plain": [
       "array([nan, 'C85', 'C123', 'E46', 'G6', 'C103', 'D56', 'A6',\n",
       "       'C23 C25 C27', 'B78', 'D33', 'B30', 'C52', 'B28', 'C83', 'F33',\n",
       "       'F G73', 'E31', 'A5', 'D10 D12', 'D26', 'C110', 'B58 B60', 'E101',\n",
       "       'F E69', 'D47', 'B86', 'F2', 'C2', 'E33', 'B19', 'A7', 'C49', 'F4',\n",
       "       'A32', 'B4', 'B80', 'A31', 'D36', 'D15', 'C93', 'C78', 'D35',\n",
       "       'C87', 'B77', 'E67', 'B94', 'C125', 'C99', 'C118', 'D7', 'A19',\n",
       "       'B49', 'D', 'C22 C26', 'C106', 'C65', 'E36', 'C54',\n",
       "       'B57 B59 B63 B66', 'C7', 'E34', 'C32', 'B18', 'C124', 'C91', 'E40',\n",
       "       'T', 'C128', 'D37', 'B35', 'E50', 'C82', 'B96 B98', 'E10', 'E44',\n",
       "       'A34', 'C104', 'C111', 'C92', 'E38', 'D21', 'E12', 'E63', 'A14',\n",
       "       'B37', 'C30', 'D20', 'B79', 'E25', 'D46', 'B73', 'C95', 'B38',\n",
       "       'B39', 'B22', 'C86', 'C70', 'A16', 'C101', 'C68', 'A10', 'E68',\n",
       "       'B41', 'A20', 'D19', 'D50', 'D9', 'A23', 'B50', 'A26', 'D48',\n",
       "       'E58', 'C126', 'B71', 'B51 B53 B55', 'D49', 'B5', 'B20', 'F G63',\n",
       "       'C62 C64', 'E24', 'C90', 'C45', 'E8', 'B101', 'D45', 'C46', 'D30',\n",
       "       'E121', 'D11', 'E77', 'F38', 'B3', 'D6', 'B82 B84', 'D17', 'A36',\n",
       "       'B102', 'B69', 'E49', 'C47', 'D28', 'E17', 'A24', 'C50', 'B42',\n",
       "       'C148', 'B45', 'B36', 'A21', 'D34', 'A9', 'C31', 'B61', 'C53',\n",
       "       'D43', 'C130', 'C132', 'C55 C57', 'C116', 'F', 'A29', 'C6', 'C28',\n",
       "       'C51', 'C97', 'D22', 'B10', 'E45', 'E52', 'A11', 'B11', 'C80',\n",
       "       'C89', 'F E46', 'B26', 'F E57', 'A18', 'E60', 'E39 E41',\n",
       "       'B52 B54 B56', 'C39', 'B24', 'D40', 'D38', 'C105'], dtype=object)"
      ]
     },
     "execution_count": 9,
     "metadata": {},
     "output_type": "execute_result"
    }
   ],
   "source": [
    "combined.Cabin.unique()"
   ]
  },
  {
   "cell_type": "code",
   "execution_count": 10,
   "id": "bbcd1ba9",
   "metadata": {},
   "outputs": [],
   "source": [
    "cabins = ['C85', 'C123', 'E46', 'G6', 'C103', 'D56', 'A6',\n",
    "       'C23 C25 C27', 'B78', 'D33', 'B30', 'C52', 'B28', 'C83', 'F33',\n",
    "       'F G73', 'E31', 'A5', 'D10 D12', 'D26', 'C110', 'B58 B60', 'E101',\n",
    "       'F E69', 'D47', 'B86', 'F2', 'C2', 'E33', 'B19', 'A7', 'C49', 'F4',\n",
    "       'A32', 'B4', 'B80', 'A31', 'D36', 'D15', 'C93', 'C78', 'D35',\n",
    "       'C87', 'B77', 'E67', 'B94', 'C125', 'C99', 'C118', 'D7', 'A19',\n",
    "       'B49', 'D', 'C22 C26', 'C106', 'C65', 'E36', 'C54',\n",
    "       'B57 B59 B63 B66', 'C7', 'E34', 'C32', 'B18', 'C124', 'C91', 'E40',\n",
    "       'T', 'C128', 'D37', 'B35', 'E50', 'C82', 'B96 B98', 'E10', 'E44',\n",
    "       'A34', 'C104', 'C111', 'C92', 'E38', 'D21', 'E12', 'E63', 'A14',\n",
    "       'B37', 'C30', 'D20', 'B79', 'E25', 'D46', 'B73', 'C95', 'B38',\n",
    "       'B39', 'B22', 'C86', 'C70', 'A16', 'C101', 'C68', 'A10', 'E68',\n",
    "       'B41', 'A20', 'D19', 'D50', 'D9', 'A23', 'B50', 'A26', 'D48',\n",
    "       'E58', 'C126', 'B71', 'B51 B53 B55', 'D49', 'B5', 'B20', 'F G63',\n",
    "       'C62 C64', 'E24', 'C90', 'C45', 'E8', 'B101', 'D45', 'C46', 'D30',\n",
    "       'E121', 'D11', 'E77', 'F38', 'B3', 'D6', 'B82 B84', 'D17', 'A36',\n",
    "       'B102', 'B69', 'E49', 'C47', 'D28', 'E17', 'A24', 'C50', 'B42',\n",
    "       'C148', 'B45', 'B36', 'A21', 'D34', 'A9', 'C31', 'B61', 'C53',\n",
    "       'D43', 'C130', 'C132', 'C55 C57', 'C116', 'F', 'A29', 'C6', 'C28',\n",
    "       'C51', 'C97', 'D22', 'B10', 'E45', 'E52', 'A11', 'B11', 'C80',\n",
    "       'C89', 'F E46', 'B26', 'F E57', 'A18', 'E60', 'E39 E41',\n",
    "       'B52 B54 B56', 'C39', 'B24', 'D40', 'D38', 'C105']"
   ]
  },
  {
   "cell_type": "code",
   "execution_count": 11,
   "id": "d7e730c5",
   "metadata": {},
   "outputs": [],
   "source": [
    "def cabin_labels(x):\n",
    "    if x in cabins:\n",
    "        return('Cabin_Avbl')\n",
    "    else:\n",
    "        return('Missing')"
   ]
  },
  {
   "cell_type": "code",
   "execution_count": 12,
   "id": "ccf3b439",
   "metadata": {},
   "outputs": [],
   "source": [
    "combined['Cabin_cat'] = combined.Cabin.apply(cabin_labels)"
   ]
  },
  {
   "cell_type": "code",
   "execution_count": 13,
   "id": "d53f6f71",
   "metadata": {},
   "outputs": [],
   "source": [
    "# pd.crosstab(combined.Survived,combined.Cabin_cat).plot(kind='bar')"
   ]
  },
  {
   "cell_type": "code",
   "execution_count": 14,
   "id": "d2d2f212",
   "metadata": {},
   "outputs": [],
   "source": [
    "# Name:\n",
    "titles = []\n",
    "for i in combined.Name:\n",
    "    titles.append(i.split(\",\")[1].split(\".\")[0])"
   ]
  },
  {
   "cell_type": "code",
   "execution_count": 15,
   "id": "58a332a0",
   "metadata": {},
   "outputs": [],
   "source": [
    "combined['Titles'] = pd.Series(titles)"
   ]
  },
  {
   "cell_type": "code",
   "execution_count": 16,
   "id": "5b69f91d",
   "metadata": {},
   "outputs": [
    {
     "data": {
      "text/plain": [
       "array([' Mr', ' Mrs', ' Miss', ' Master', ' Don', ' Rev', ' Dr', ' Mme',\n",
       "       ' Ms', ' Major', ' Lady', ' Sir', ' Mlle', ' Col', ' Capt',\n",
       "       ' the Countess', ' Jonkheer', ' Dona'], dtype=object)"
      ]
     },
     "execution_count": 16,
     "metadata": {},
     "output_type": "execute_result"
    }
   ],
   "source": [
    "combined.Titles.unique()"
   ]
  },
  {
   "cell_type": "code",
   "execution_count": 17,
   "id": "c7f88120",
   "metadata": {},
   "outputs": [],
   "source": [
    "titles_ignore = [' Don', ' Rev', ' Dr', ' Mme',\n",
    "                ' Major', ' Lady', ' Sir', ' Mlle', ' Col', ' Capt',\n",
    "       ' the Countess', ' Jonkheer', ' Dona']"
   ]
  },
  {
   "cell_type": "code",
   "execution_count": 18,
   "id": "1ceda96c",
   "metadata": {},
   "outputs": [],
   "source": [
    "def notitle(x):\n",
    "    if x in titles_ignore:\n",
    "        return('others')\n",
    "    else:\n",
    "        return(x)"
   ]
  },
  {
   "cell_type": "code",
   "execution_count": 19,
   "id": "eea52db5",
   "metadata": {},
   "outputs": [],
   "source": [
    "combined['Titles']=combined.Titles.apply(notitle)"
   ]
  },
  {
   "cell_type": "code",
   "execution_count": 20,
   "id": "b8103636",
   "metadata": {},
   "outputs": [],
   "source": [
    "combined.drop(['PassengerId','Name','Cabin','Ticket'],axis=1,inplace=True)"
   ]
  },
  {
   "cell_type": "code",
   "execution_count": 21,
   "id": "306af7f2",
   "metadata": {},
   "outputs": [],
   "source": [
    "combined['Family'] = combined.SibSp+combined.Parch+1"
   ]
  },
  {
   "cell_type": "code",
   "execution_count": 22,
   "id": "f5467c5f",
   "metadata": {},
   "outputs": [],
   "source": [
    "def parivar(x):\n",
    "    if x==1:\n",
    "        return('Solo')\n",
    "    elif x==2:\n",
    "        return('Duo')\n",
    "    elif x<=4:\n",
    "        return('Small')\n",
    "    else:\n",
    "        return('Large')"
   ]
  },
  {
   "cell_type": "code",
   "execution_count": 23,
   "id": "ed20df4b",
   "metadata": {},
   "outputs": [],
   "source": [
    "combined['Family_cat'] = combined['Family'].apply(parivar)"
   ]
  },
  {
   "cell_type": "code",
   "execution_count": 24,
   "id": "76c914fd",
   "metadata": {},
   "outputs": [],
   "source": [
    "# pd.crosstab(combined.Family_cat,combined.Survived)"
   ]
  },
  {
   "cell_type": "code",
   "execution_count": 25,
   "id": "a15ba33c",
   "metadata": {},
   "outputs": [],
   "source": [
    "# Missing values"
   ]
  },
  {
   "cell_type": "code",
   "execution_count": 26,
   "id": "cb88f956",
   "metadata": {},
   "outputs": [
    {
     "data": {
      "text/plain": [
       "Titles\n",
       " Master    [2.0, 7.0, 11.0, 4.0, nan, 0.83, 12.0, 1.0, 9....\n",
       " Miss      [26.0, 4.0, 58.0, 14.0, 15.0, 8.0, nan, 18.0, ...\n",
       " Mr        [22.0, 35.0, nan, 54.0, 20.0, 39.0, 34.0, 28.0...\n",
       " Mrs       [38.0, 35.0, 27.0, 14.0, 55.0, 31.0, nan, 40.0...\n",
       " Ms                                              [28.0, nan]\n",
       "others     [40.0, 42.0, 51.0, 44.0, 54.0, 24.0, 23.0, 52....\n",
       "Name: Age, dtype: object"
      ]
     },
     "execution_count": 26,
     "metadata": {},
     "output_type": "execute_result"
    }
   ],
   "source": [
    "combined.groupby('Titles')['Age'].unique()"
   ]
  },
  {
   "cell_type": "code",
   "execution_count": 27,
   "id": "9df8a58d",
   "metadata": {},
   "outputs": [],
   "source": [
    "missing_titles = combined.loc[combined.Age.isnull(),'Titles'].unique()"
   ]
  },
  {
   "cell_type": "code",
   "execution_count": 28,
   "id": "51a84b87",
   "metadata": {},
   "outputs": [],
   "source": [
    "for i in missing_titles:\n",
    "    combined.loc[combined.Age.isnull(),'Age'] =\\\n",
    "    combined.loc[combined.Titles==i,'Age'].median()"
   ]
  },
  {
   "cell_type": "code",
   "execution_count": 29,
   "id": "1788f406",
   "metadata": {},
   "outputs": [],
   "source": [
    "combined.loc[combined.Embarked.isnull(),'Embarked']=combined.Embarked.mode()[0]"
   ]
  },
  {
   "cell_type": "code",
   "execution_count": 30,
   "id": "4fa6f78c",
   "metadata": {},
   "outputs": [],
   "source": [
    "combined.loc[combined.Fare.isnull(),'Fare']=combined.Fare.median()"
   ]
  },
  {
   "cell_type": "code",
   "execution_count": 31,
   "id": "0b34b387",
   "metadata": {},
   "outputs": [
    {
     "data": {
      "text/plain": [
       "((418, 12), (891, 12))"
      ]
     },
     "execution_count": 31,
     "metadata": {},
     "output_type": "execute_result"
    }
   ],
   "source": [
    "# Split the data back in train and test\n",
    "\n",
    "newtrain = combined.loc[0:train.shape[0]-1,]\n",
    "\n",
    "newtest = combined.loc[train.shape[0]:,]\n",
    "\n",
    "newtest.shape  ,newtrain.shape"
   ]
  },
  {
   "cell_type": "code",
   "execution_count": 32,
   "id": "f363999b",
   "metadata": {},
   "outputs": [],
   "source": [
    "x = newtrain.drop(['Survived'],axis=1)\n",
    "y = newtrain.Survived.astype(int)\n",
    "\n",
    "newtest.drop(['Survived'],axis=1,inplace=True)"
   ]
  },
  {
   "cell_type": "markdown",
   "id": "adc94b3d",
   "metadata": {},
   "source": [
    "### Model Building\n"
   ]
  },
  {
   "cell_type": "code",
   "execution_count": 33,
   "id": "ebd467e8",
   "metadata": {},
   "outputs": [],
   "source": [
    "submission = pd.DataFrame({'PassengerId':test.PassengerId,\n",
    "                          'Survived':0})\n",
    "submission.to_csv('basemodel.csv',index=False)"
   ]
  },
  {
   "cell_type": "code",
   "execution_count": 34,
   "id": "a37e8d3b",
   "metadata": {},
   "outputs": [],
   "source": [
    "# dummyfy the data\n",
    "newx = pd.get_dummies(x,drop_first=True)\n",
    "newtest1 = pd.get_dummies(newtest,drop_first=True)"
   ]
  },
  {
   "cell_type": "code",
   "execution_count": 35,
   "id": "314326e2",
   "metadata": {},
   "outputs": [],
   "source": [
    "from sklearn.linear_model import LogisticRegression\n",
    "\n",
    "lg =LogisticRegression()\n",
    "pred = lg.fit(newx,y).predict(newtest1)"
   ]
  },
  {
   "cell_type": "code",
   "execution_count": 36,
   "id": "54aec25e",
   "metadata": {},
   "outputs": [],
   "source": [
    "submission = pd.DataFrame({'PassengerId':test.PassengerId,\n",
    "                          'Survived':pred})\n",
    "submission.to_csv('logistic.csv',index=False)"
   ]
  },
  {
   "cell_type": "code",
   "execution_count": 37,
   "id": "f15cbff0",
   "metadata": {},
   "outputs": [],
   "source": [
    "from statsmodels.stats.outliers_influence import variance_inflation_factor"
   ]
  },
  {
   "cell_type": "code",
   "execution_count": 38,
   "id": "98bec275",
   "metadata": {},
   "outputs": [
    {
     "data": {
      "text/html": [
       "<div>\n",
       "<style scoped>\n",
       "    .dataframe tbody tr th:only-of-type {\n",
       "        vertical-align: middle;\n",
       "    }\n",
       "\n",
       "    .dataframe tbody tr th {\n",
       "        vertical-align: top;\n",
       "    }\n",
       "\n",
       "    .dataframe thead th {\n",
       "        text-align: right;\n",
       "    }\n",
       "</style>\n",
       "<table border=\"1\" class=\"dataframe\">\n",
       "  <thead>\n",
       "    <tr style=\"text-align: right;\">\n",
       "      <th></th>\n",
       "      <th>columns</th>\n",
       "      <th>vif</th>\n",
       "    </tr>\n",
       "  </thead>\n",
       "  <tbody>\n",
       "    <tr>\n",
       "      <th>0</th>\n",
       "      <td>Pclass</td>\n",
       "      <td>2.887608</td>\n",
       "    </tr>\n",
       "    <tr>\n",
       "      <th>1</th>\n",
       "      <td>Age</td>\n",
       "      <td>1.564016</td>\n",
       "    </tr>\n",
       "    <tr>\n",
       "      <th>2</th>\n",
       "      <td>SibSp</td>\n",
       "      <td>386.127423</td>\n",
       "    </tr>\n",
       "    <tr>\n",
       "      <th>3</th>\n",
       "      <td>Parch</td>\n",
       "      <td>208.163779</td>\n",
       "    </tr>\n",
       "    <tr>\n",
       "      <th>4</th>\n",
       "      <td>Fare</td>\n",
       "      <td>1.716397</td>\n",
       "    </tr>\n",
       "    <tr>\n",
       "      <th>5</th>\n",
       "      <td>Family</td>\n",
       "      <td>1541.844876</td>\n",
       "    </tr>\n",
       "    <tr>\n",
       "      <th>6</th>\n",
       "      <td>Sex_male</td>\n",
       "      <td>45.570269</td>\n",
       "    </tr>\n",
       "    <tr>\n",
       "      <th>7</th>\n",
       "      <td>Embarked_Q</td>\n",
       "      <td>1.546592</td>\n",
       "    </tr>\n",
       "    <tr>\n",
       "      <th>8</th>\n",
       "      <td>Embarked_S</td>\n",
       "      <td>1.495120</td>\n",
       "    </tr>\n",
       "    <tr>\n",
       "      <th>9</th>\n",
       "      <td>Cabin_cat_Missing</td>\n",
       "      <td>2.228914</td>\n",
       "    </tr>\n",
       "    <tr>\n",
       "      <th>10</th>\n",
       "      <td>Titles_ Miss</td>\n",
       "      <td>38.104557</td>\n",
       "    </tr>\n",
       "    <tr>\n",
       "      <th>11</th>\n",
       "      <td>Titles_ Mr</td>\n",
       "      <td>8.477798</td>\n",
       "    </tr>\n",
       "    <tr>\n",
       "      <th>12</th>\n",
       "      <td>Titles_ Mrs</td>\n",
       "      <td>29.624656</td>\n",
       "    </tr>\n",
       "    <tr>\n",
       "      <th>13</th>\n",
       "      <td>Titles_ Ms</td>\n",
       "      <td>1.269940</td>\n",
       "    </tr>\n",
       "    <tr>\n",
       "      <th>14</th>\n",
       "      <td>Titles_others</td>\n",
       "      <td>2.375225</td>\n",
       "    </tr>\n",
       "    <tr>\n",
       "      <th>15</th>\n",
       "      <td>Family_cat_Large</td>\n",
       "      <td>8.368818</td>\n",
       "    </tr>\n",
       "    <tr>\n",
       "      <th>16</th>\n",
       "      <td>Family_cat_Small</td>\n",
       "      <td>2.982278</td>\n",
       "    </tr>\n",
       "    <tr>\n",
       "      <th>17</th>\n",
       "      <td>Family_cat_Solo</td>\n",
       "      <td>3.209859</td>\n",
       "    </tr>\n",
       "  </tbody>\n",
       "</table>\n",
       "</div>"
      ],
      "text/plain": [
       "              columns          vif\n",
       "0              Pclass     2.887608\n",
       "1                 Age     1.564016\n",
       "2               SibSp   386.127423\n",
       "3               Parch   208.163779\n",
       "4                Fare     1.716397\n",
       "5              Family  1541.844876\n",
       "6            Sex_male    45.570269\n",
       "7          Embarked_Q     1.546592\n",
       "8          Embarked_S     1.495120\n",
       "9   Cabin_cat_Missing     2.228914\n",
       "10       Titles_ Miss    38.104557\n",
       "11         Titles_ Mr     8.477798\n",
       "12        Titles_ Mrs    29.624656\n",
       "13         Titles_ Ms     1.269940\n",
       "14      Titles_others     2.375225\n",
       "15   Family_cat_Large     8.368818\n",
       "16   Family_cat_Small     2.982278\n",
       "17    Family_cat_Solo     3.209859"
      ]
     },
     "execution_count": 38,
     "metadata": {},
     "output_type": "execute_result"
    }
   ],
   "source": [
    "vif = []\n",
    "for i in range(newx.shape[1]):\n",
    "    vif.append(variance_inflation_factor(newx.values,i))\n",
    "pd.DataFrame({'columns':newx.columns,'vif':vif})"
   ]
  },
  {
   "cell_type": "code",
   "execution_count": 39,
   "id": "8c4bb6ef",
   "metadata": {},
   "outputs": [],
   "source": [
    "import statsmodels.api as sma"
   ]
  },
  {
   "cell_type": "code",
   "execution_count": 40,
   "id": "11a12159",
   "metadata": {},
   "outputs": [
    {
     "name": "stdout",
     "output_type": "stream",
     "text": [
      "Warning: Maximum number of iterations has been exceeded.\n",
      "         Current function value: 0.397365\n",
      "         Iterations: 35\n"
     ]
    },
    {
     "name": "stderr",
     "output_type": "stream",
     "text": [
      "C:\\Users\\USER\\anaconda3\\Lib\\site-packages\\statsmodels\\base\\model.py:604: ConvergenceWarning: Maximum Likelihood optimization failed to converge. Check mle_retvals\n",
      "  warnings.warn(\"Maximum Likelihood optimization failed to \"\n"
     ]
    },
    {
     "data": {
      "text/html": [
       "<table class=\"simpletable\">\n",
       "<caption>Logit Regression Results</caption>\n",
       "<tr>\n",
       "  <th>Dep. Variable:</th>       <td>Survived</td>     <th>  No. Observations:  </th>  <td>   891</td>  \n",
       "</tr>\n",
       "<tr>\n",
       "  <th>Model:</th>                 <td>Logit</td>      <th>  Df Residuals:      </th>  <td>   873</td>  \n",
       "</tr>\n",
       "<tr>\n",
       "  <th>Method:</th>                 <td>MLE</td>       <th>  Df Model:          </th>  <td>    17</td>  \n",
       "</tr>\n",
       "<tr>\n",
       "  <th>Date:</th>            <td>Fri, 19 Jan 2024</td> <th>  Pseudo R-squ.:     </th>  <td>0.4033</td>  \n",
       "</tr>\n",
       "<tr>\n",
       "  <th>Time:</th>                <td>09:46:44</td>     <th>  Log-Likelihood:    </th> <td> -354.05</td> \n",
       "</tr>\n",
       "<tr>\n",
       "  <th>converged:</th>             <td>False</td>      <th>  LL-Null:           </th> <td> -593.33</td> \n",
       "</tr>\n",
       "<tr>\n",
       "  <th>Covariance Type:</th>     <td>nonrobust</td>    <th>  LLR p-value:       </th> <td>6.198e-91</td>\n",
       "</tr>\n",
       "</table>\n",
       "<table class=\"simpletable\">\n",
       "<tr>\n",
       "          <td></td>             <th>coef</th>     <th>std err</th>      <th>z</th>      <th>P>|z|</th>  <th>[0.025</th>    <th>0.975]</th>  \n",
       "</tr>\n",
       "<tr>\n",
       "  <th>Pclass</th>            <td>   -0.8026</td> <td>    0.187</td> <td>   -4.292</td> <td> 0.000</td> <td>   -1.169</td> <td>   -0.436</td>\n",
       "</tr>\n",
       "<tr>\n",
       "  <th>Age</th>               <td>   -0.0234</td> <td>    0.009</td> <td>   -2.505</td> <td> 0.012</td> <td>   -0.042</td> <td>   -0.005</td>\n",
       "</tr>\n",
       "<tr>\n",
       "  <th>SibSp</th>             <td>  -30.2309</td> <td> 1.25e+05</td> <td>   -0.000</td> <td> 1.000</td> <td>-2.46e+05</td> <td> 2.46e+05</td>\n",
       "</tr>\n",
       "<tr>\n",
       "  <th>Parch</th>             <td>  -30.1232</td> <td> 1.25e+05</td> <td>   -0.000</td> <td> 1.000</td> <td>-2.46e+05</td> <td> 2.46e+05</td>\n",
       "</tr>\n",
       "<tr>\n",
       "  <th>Fare</th>              <td>    0.0034</td> <td>    0.003</td> <td>    1.314</td> <td> 0.189</td> <td>   -0.002</td> <td>    0.009</td>\n",
       "</tr>\n",
       "<tr>\n",
       "  <th>Family</th>            <td>   30.1511</td> <td> 1.25e+05</td> <td>    0.000</td> <td> 1.000</td> <td>-2.46e+05</td> <td> 2.46e+05</td>\n",
       "</tr>\n",
       "<tr>\n",
       "  <th>Sex_male</th>          <td>  -25.4061</td> <td> 1.25e+05</td> <td>   -0.000</td> <td> 1.000</td> <td>-2.46e+05</td> <td> 2.46e+05</td>\n",
       "</tr>\n",
       "<tr>\n",
       "  <th>Embarked_Q</th>        <td>    0.0330</td> <td>    0.401</td> <td>    0.082</td> <td> 0.935</td> <td>   -0.754</td> <td>    0.819</td>\n",
       "</tr>\n",
       "<tr>\n",
       "  <th>Embarked_S</th>        <td>   -0.3189</td> <td>    0.254</td> <td>   -1.256</td> <td> 0.209</td> <td>   -0.816</td> <td>    0.179</td>\n",
       "</tr>\n",
       "<tr>\n",
       "  <th>Cabin_cat_Missing</th> <td>   -0.6404</td> <td>    0.322</td> <td>   -1.991</td> <td> 0.047</td> <td>   -1.271</td> <td>   -0.010</td>\n",
       "</tr>\n",
       "<tr>\n",
       "  <th>Titles_ Miss</th>      <td>  -26.0717</td> <td> 1.25e+05</td> <td>   -0.000</td> <td> 1.000</td> <td>-2.46e+05</td> <td> 2.46e+05</td>\n",
       "</tr>\n",
       "<tr>\n",
       "  <th>Titles_ Mr</th>        <td>   -3.5874</td> <td>    0.598</td> <td>   -6.003</td> <td> 0.000</td> <td>   -4.759</td> <td>   -2.416</td>\n",
       "</tr>\n",
       "<tr>\n",
       "  <th>Titles_ Mrs</th>       <td>  -25.3919</td> <td> 1.25e+05</td> <td>   -0.000</td> <td> 1.000</td> <td>-2.46e+05</td> <td> 2.46e+05</td>\n",
       "</tr>\n",
       "<tr>\n",
       "  <th>Titles_ Ms</th>        <td>  -10.5552</td> <td> 1.25e+05</td> <td>-8.41e-05</td> <td> 1.000</td> <td>-2.46e+05</td> <td> 2.46e+05</td>\n",
       "</tr>\n",
       "<tr>\n",
       "  <th>Titles_others</th>     <td>   -3.5582</td> <td>    0.824</td> <td>   -4.316</td> <td> 0.000</td> <td>   -5.174</td> <td>   -1.942</td>\n",
       "</tr>\n",
       "<tr>\n",
       "  <th>Family_cat_Large</th>  <td>   -2.5015</td> <td>    1.291</td> <td>   -1.937</td> <td> 0.053</td> <td>   -5.032</td> <td>    0.029</td>\n",
       "</tr>\n",
       "<tr>\n",
       "  <th>Family_cat_Small</th>  <td>    0.1452</td> <td>    0.500</td> <td>    0.291</td> <td> 0.771</td> <td>   -0.834</td> <td>    1.125</td>\n",
       "</tr>\n",
       "<tr>\n",
       "  <th>Family_cat_Solo</th>   <td>    0.3804</td> <td>    0.391</td> <td>    0.972</td> <td> 0.331</td> <td>   -0.387</td> <td>    1.148</td>\n",
       "</tr>\n",
       "</table>"
      ],
      "text/plain": [
       "<class 'statsmodels.iolib.summary.Summary'>\n",
       "\"\"\"\n",
       "                           Logit Regression Results                           \n",
       "==============================================================================\n",
       "Dep. Variable:               Survived   No. Observations:                  891\n",
       "Model:                          Logit   Df Residuals:                      873\n",
       "Method:                           MLE   Df Model:                           17\n",
       "Date:                Fri, 19 Jan 2024   Pseudo R-squ.:                  0.4033\n",
       "Time:                        09:46:44   Log-Likelihood:                -354.05\n",
       "converged:                      False   LL-Null:                       -593.33\n",
       "Covariance Type:            nonrobust   LLR p-value:                 6.198e-91\n",
       "=====================================================================================\n",
       "                        coef    std err          z      P>|z|      [0.025      0.975]\n",
       "-------------------------------------------------------------------------------------\n",
       "Pclass               -0.8026      0.187     -4.292      0.000      -1.169      -0.436\n",
       "Age                  -0.0234      0.009     -2.505      0.012      -0.042      -0.005\n",
       "SibSp               -30.2309   1.25e+05     -0.000      1.000   -2.46e+05    2.46e+05\n",
       "Parch               -30.1232   1.25e+05     -0.000      1.000   -2.46e+05    2.46e+05\n",
       "Fare                  0.0034      0.003      1.314      0.189      -0.002       0.009\n",
       "Family               30.1511   1.25e+05      0.000      1.000   -2.46e+05    2.46e+05\n",
       "Sex_male            -25.4061   1.25e+05     -0.000      1.000   -2.46e+05    2.46e+05\n",
       "Embarked_Q            0.0330      0.401      0.082      0.935      -0.754       0.819\n",
       "Embarked_S           -0.3189      0.254     -1.256      0.209      -0.816       0.179\n",
       "Cabin_cat_Missing    -0.6404      0.322     -1.991      0.047      -1.271      -0.010\n",
       "Titles_ Miss        -26.0717   1.25e+05     -0.000      1.000   -2.46e+05    2.46e+05\n",
       "Titles_ Mr           -3.5874      0.598     -6.003      0.000      -4.759      -2.416\n",
       "Titles_ Mrs         -25.3919   1.25e+05     -0.000      1.000   -2.46e+05    2.46e+05\n",
       "Titles_ Ms          -10.5552   1.25e+05  -8.41e-05      1.000   -2.46e+05    2.46e+05\n",
       "Titles_others        -3.5582      0.824     -4.316      0.000      -5.174      -1.942\n",
       "Family_cat_Large     -2.5015      1.291     -1.937      0.053      -5.032       0.029\n",
       "Family_cat_Small      0.1452      0.500      0.291      0.771      -0.834       1.125\n",
       "Family_cat_Solo       0.3804      0.391      0.972      0.331      -0.387       1.148\n",
       "=====================================================================================\n",
       "\"\"\""
      ]
     },
     "execution_count": 40,
     "metadata": {},
     "output_type": "execute_result"
    }
   ],
   "source": [
    "model = sma.Logit(y,newx).fit()\n",
    "model.summary()"
   ]
  },
  {
   "cell_type": "code",
   "execution_count": 41,
   "id": "3b368c58",
   "metadata": {},
   "outputs": [
    {
     "data": {
      "text/plain": [
       "Pclass                 int64\n",
       "Age                  float64\n",
       "SibSp                  int64\n",
       "Parch                  int64\n",
       "Fare                 float64\n",
       "Family                 int64\n",
       "Sex_male               uint8\n",
       "Embarked_Q             uint8\n",
       "Embarked_S             uint8\n",
       "Cabin_cat_Missing      uint8\n",
       "Titles_ Miss           uint8\n",
       "Titles_ Mr             uint8\n",
       "Titles_ Mrs            uint8\n",
       "Titles_ Ms             uint8\n",
       "Titles_others          uint8\n",
       "Family_cat_Large       uint8\n",
       "Family_cat_Small       uint8\n",
       "Family_cat_Solo        uint8\n",
       "dtype: object"
      ]
     },
     "execution_count": 41,
     "metadata": {},
     "output_type": "execute_result"
    }
   ],
   "source": [
    "newx.dtypes"
   ]
  },
  {
   "cell_type": "markdown",
   "id": "9cc23b8b",
   "metadata": {},
   "source": [
    "p value is high i.e features are insignificant\n",
    "lot of multicollinearity so remove it."
   ]
  },
  {
   "cell_type": "code",
   "execution_count": 42,
   "id": "4f956781",
   "metadata": {},
   "outputs": [],
   "source": [
    "subset = newx.drop(columns=['Parch','SibSp','Sex_male'],axis=0)\n"
   ]
  },
  {
   "cell_type": "code",
   "execution_count": null,
   "id": "831ee761",
   "metadata": {},
   "outputs": [],
   "source": []
  },
  {
   "cell_type": "code",
   "execution_count": 43,
   "id": "897a0dca",
   "metadata": {},
   "outputs": [
    {
     "data": {
      "text/html": [
       "<div>\n",
       "<style scoped>\n",
       "    .dataframe tbody tr th:only-of-type {\n",
       "        vertical-align: middle;\n",
       "    }\n",
       "\n",
       "    .dataframe tbody tr th {\n",
       "        vertical-align: top;\n",
       "    }\n",
       "\n",
       "    .dataframe thead th {\n",
       "        text-align: right;\n",
       "    }\n",
       "</style>\n",
       "<table border=\"1\" class=\"dataframe\">\n",
       "  <thead>\n",
       "    <tr style=\"text-align: right;\">\n",
       "      <th></th>\n",
       "      <th>columns</th>\n",
       "      <th>vif</th>\n",
       "    </tr>\n",
       "  </thead>\n",
       "  <tbody>\n",
       "    <tr>\n",
       "      <th>5</th>\n",
       "      <td>Family</td>\n",
       "      <td>1541.844876</td>\n",
       "    </tr>\n",
       "    <tr>\n",
       "      <th>2</th>\n",
       "      <td>SibSp</td>\n",
       "      <td>386.127423</td>\n",
       "    </tr>\n",
       "    <tr>\n",
       "      <th>3</th>\n",
       "      <td>Parch</td>\n",
       "      <td>208.163779</td>\n",
       "    </tr>\n",
       "    <tr>\n",
       "      <th>6</th>\n",
       "      <td>Sex_male</td>\n",
       "      <td>45.570269</td>\n",
       "    </tr>\n",
       "    <tr>\n",
       "      <th>10</th>\n",
       "      <td>Titles_ Miss</td>\n",
       "      <td>38.104557</td>\n",
       "    </tr>\n",
       "    <tr>\n",
       "      <th>12</th>\n",
       "      <td>Titles_ Mrs</td>\n",
       "      <td>29.624656</td>\n",
       "    </tr>\n",
       "    <tr>\n",
       "      <th>11</th>\n",
       "      <td>Titles_ Mr</td>\n",
       "      <td>8.477798</td>\n",
       "    </tr>\n",
       "    <tr>\n",
       "      <th>15</th>\n",
       "      <td>Family_cat_Large</td>\n",
       "      <td>8.368818</td>\n",
       "    </tr>\n",
       "    <tr>\n",
       "      <th>17</th>\n",
       "      <td>Family_cat_Solo</td>\n",
       "      <td>3.209859</td>\n",
       "    </tr>\n",
       "    <tr>\n",
       "      <th>16</th>\n",
       "      <td>Family_cat_Small</td>\n",
       "      <td>2.982278</td>\n",
       "    </tr>\n",
       "    <tr>\n",
       "      <th>0</th>\n",
       "      <td>Pclass</td>\n",
       "      <td>2.887608</td>\n",
       "    </tr>\n",
       "    <tr>\n",
       "      <th>14</th>\n",
       "      <td>Titles_others</td>\n",
       "      <td>2.375225</td>\n",
       "    </tr>\n",
       "    <tr>\n",
       "      <th>9</th>\n",
       "      <td>Cabin_cat_Missing</td>\n",
       "      <td>2.228914</td>\n",
       "    </tr>\n",
       "    <tr>\n",
       "      <th>4</th>\n",
       "      <td>Fare</td>\n",
       "      <td>1.716397</td>\n",
       "    </tr>\n",
       "    <tr>\n",
       "      <th>1</th>\n",
       "      <td>Age</td>\n",
       "      <td>1.564016</td>\n",
       "    </tr>\n",
       "    <tr>\n",
       "      <th>7</th>\n",
       "      <td>Embarked_Q</td>\n",
       "      <td>1.546592</td>\n",
       "    </tr>\n",
       "    <tr>\n",
       "      <th>8</th>\n",
       "      <td>Embarked_S</td>\n",
       "      <td>1.495120</td>\n",
       "    </tr>\n",
       "    <tr>\n",
       "      <th>13</th>\n",
       "      <td>Titles_ Ms</td>\n",
       "      <td>1.269940</td>\n",
       "    </tr>\n",
       "  </tbody>\n",
       "</table>\n",
       "</div>"
      ],
      "text/plain": [
       "              columns          vif\n",
       "5              Family  1541.844876\n",
       "2               SibSp   386.127423\n",
       "3               Parch   208.163779\n",
       "6            Sex_male    45.570269\n",
       "10       Titles_ Miss    38.104557\n",
       "12        Titles_ Mrs    29.624656\n",
       "11         Titles_ Mr     8.477798\n",
       "15   Family_cat_Large     8.368818\n",
       "17    Family_cat_Solo     3.209859\n",
       "16   Family_cat_Small     2.982278\n",
       "0              Pclass     2.887608\n",
       "14      Titles_others     2.375225\n",
       "9   Cabin_cat_Missing     2.228914\n",
       "4                Fare     1.716397\n",
       "1                 Age     1.564016\n",
       "7          Embarked_Q     1.546592\n",
       "8          Embarked_S     1.495120\n",
       "13         Titles_ Ms     1.269940"
      ]
     },
     "execution_count": 43,
     "metadata": {},
     "output_type": "execute_result"
    }
   ],
   "source": [
    "vif = []\n",
    "for i in range(newx.shape[1]):\n",
    "    vif.append(variance_inflation_factor(newx.values,i))\n",
    "pd.DataFrame({'columns':newx.columns,'vif':vif}).sort_values(by='vif',ascending=False)"
   ]
  },
  {
   "cell_type": "code",
   "execution_count": 44,
   "id": "79fbb2a3",
   "metadata": {},
   "outputs": [
    {
     "name": "stdout",
     "output_type": "stream",
     "text": [
      "Warning: Maximum number of iterations has been exceeded.\n",
      "         Current function value: 0.421190\n",
      "         Iterations: 35\n"
     ]
    },
    {
     "name": "stderr",
     "output_type": "stream",
     "text": [
      "C:\\Users\\USER\\anaconda3\\Lib\\site-packages\\statsmodels\\base\\model.py:604: ConvergenceWarning: Maximum Likelihood optimization failed to converge. Check mle_retvals\n",
      "  warnings.warn(\"Maximum Likelihood optimization failed to \"\n"
     ]
    },
    {
     "data": {
      "text/html": [
       "<table class=\"simpletable\">\n",
       "<caption>Logit Regression Results</caption>\n",
       "<tr>\n",
       "  <th>Dep. Variable:</th>       <td>Survived</td>     <th>  No. Observations:  </th>  <td>   891</td>  \n",
       "</tr>\n",
       "<tr>\n",
       "  <th>Model:</th>                 <td>Logit</td>      <th>  Df Residuals:      </th>  <td>   876</td>  \n",
       "</tr>\n",
       "<tr>\n",
       "  <th>Method:</th>                 <td>MLE</td>       <th>  Df Model:          </th>  <td>    14</td>  \n",
       "</tr>\n",
       "<tr>\n",
       "  <th>Date:</th>            <td>Fri, 19 Jan 2024</td> <th>  Pseudo R-squ.:     </th>  <td>0.3675</td>  \n",
       "</tr>\n",
       "<tr>\n",
       "  <th>Time:</th>                <td>09:46:47</td>     <th>  Log-Likelihood:    </th> <td> -375.28</td> \n",
       "</tr>\n",
       "<tr>\n",
       "  <th>converged:</th>             <td>False</td>      <th>  LL-Null:           </th> <td> -593.33</td> \n",
       "</tr>\n",
       "<tr>\n",
       "  <th>Covariance Type:</th>     <td>nonrobust</td>    <th>  LLR p-value:       </th> <td>3.084e-84</td>\n",
       "</tr>\n",
       "</table>\n",
       "<table class=\"simpletable\">\n",
       "<tr>\n",
       "          <td></td>             <th>coef</th>     <th>std err</th>      <th>z</th>      <th>P>|z|</th>  <th>[0.025</th>    <th>0.975]</th>  \n",
       "</tr>\n",
       "<tr>\n",
       "  <th>Pclass</th>            <td>   -0.2969</td> <td>    0.168</td> <td>   -1.773</td> <td> 0.076</td> <td>   -0.625</td> <td>    0.031</td>\n",
       "</tr>\n",
       "<tr>\n",
       "  <th>Age</th>               <td>   -0.0131</td> <td>    0.009</td> <td>   -1.504</td> <td> 0.133</td> <td>   -0.030</td> <td>    0.004</td>\n",
       "</tr>\n",
       "<tr>\n",
       "  <th>Fare</th>              <td>    0.0097</td> <td>    0.003</td> <td>    3.240</td> <td> 0.001</td> <td>    0.004</td> <td>    0.016</td>\n",
       "</tr>\n",
       "<tr>\n",
       "  <th>Family</th>            <td>    0.5728</td> <td>    0.170</td> <td>    3.372</td> <td> 0.001</td> <td>    0.240</td> <td>    0.906</td>\n",
       "</tr>\n",
       "<tr>\n",
       "  <th>Embarked_Q</th>        <td>    0.1156</td> <td>    0.394</td> <td>    0.293</td> <td> 0.769</td> <td>   -0.657</td> <td>    0.888</td>\n",
       "</tr>\n",
       "<tr>\n",
       "  <th>Embarked_S</th>        <td>   -0.0706</td> <td>    0.241</td> <td>   -0.293</td> <td> 0.769</td> <td>   -0.542</td> <td>    0.401</td>\n",
       "</tr>\n",
       "<tr>\n",
       "  <th>Cabin_cat_Missing</th> <td>   -0.7748</td> <td>    0.314</td> <td>   -2.468</td> <td> 0.014</td> <td>   -1.390</td> <td>   -0.159</td>\n",
       "</tr>\n",
       "<tr>\n",
       "  <th>Titles_ Miss</th>      <td>    0.8299</td> <td>    0.449</td> <td>    1.847</td> <td> 0.065</td> <td>   -0.051</td> <td>    1.711</td>\n",
       "</tr>\n",
       "<tr>\n",
       "  <th>Titles_ Mr</th>        <td>   -1.9628</td> <td>    0.468</td> <td>   -4.195</td> <td> 0.000</td> <td>   -2.880</td> <td>   -1.046</td>\n",
       "</tr>\n",
       "<tr>\n",
       "  <th>Titles_ Mrs</th>       <td>    1.5941</td> <td>    0.507</td> <td>    3.145</td> <td> 0.002</td> <td>    0.601</td> <td>    2.587</td>\n",
       "</tr>\n",
       "<tr>\n",
       "  <th>Titles_ Ms</th>        <td>   21.3221</td> <td> 4.64e+04</td> <td>    0.000</td> <td> 1.000</td> <td>-9.09e+04</td> <td> 9.09e+04</td>\n",
       "</tr>\n",
       "<tr>\n",
       "  <th>Titles_others</th>     <td>   -1.0974</td> <td>    0.632</td> <td>   -1.736</td> <td> 0.082</td> <td>   -2.336</td> <td>    0.141</td>\n",
       "</tr>\n",
       "<tr>\n",
       "  <th>Family_cat_Large</th>  <td>   -5.0538</td> <td>    1.047</td> <td>   -4.825</td> <td> 0.000</td> <td>   -7.107</td> <td>   -3.001</td>\n",
       "</tr>\n",
       "<tr>\n",
       "  <th>Family_cat_Small</th>  <td>   -0.0480</td> <td>    0.396</td> <td>   -0.121</td> <td> 0.903</td> <td>   -0.823</td> <td>    0.727</td>\n",
       "</tr>\n",
       "<tr>\n",
       "  <th>Family_cat_Solo</th>   <td>    1.2741</td> <td>    0.321</td> <td>    3.971</td> <td> 0.000</td> <td>    0.645</td> <td>    1.903</td>\n",
       "</tr>\n",
       "</table>"
      ],
      "text/plain": [
       "<class 'statsmodels.iolib.summary.Summary'>\n",
       "\"\"\"\n",
       "                           Logit Regression Results                           \n",
       "==============================================================================\n",
       "Dep. Variable:               Survived   No. Observations:                  891\n",
       "Model:                          Logit   Df Residuals:                      876\n",
       "Method:                           MLE   Df Model:                           14\n",
       "Date:                Fri, 19 Jan 2024   Pseudo R-squ.:                  0.3675\n",
       "Time:                        09:46:47   Log-Likelihood:                -375.28\n",
       "converged:                      False   LL-Null:                       -593.33\n",
       "Covariance Type:            nonrobust   LLR p-value:                 3.084e-84\n",
       "=====================================================================================\n",
       "                        coef    std err          z      P>|z|      [0.025      0.975]\n",
       "-------------------------------------------------------------------------------------\n",
       "Pclass               -0.2969      0.168     -1.773      0.076      -0.625       0.031\n",
       "Age                  -0.0131      0.009     -1.504      0.133      -0.030       0.004\n",
       "Fare                  0.0097      0.003      3.240      0.001       0.004       0.016\n",
       "Family                0.5728      0.170      3.372      0.001       0.240       0.906\n",
       "Embarked_Q            0.1156      0.394      0.293      0.769      -0.657       0.888\n",
       "Embarked_S           -0.0706      0.241     -0.293      0.769      -0.542       0.401\n",
       "Cabin_cat_Missing    -0.7748      0.314     -2.468      0.014      -1.390      -0.159\n",
       "Titles_ Miss          0.8299      0.449      1.847      0.065      -0.051       1.711\n",
       "Titles_ Mr           -1.9628      0.468     -4.195      0.000      -2.880      -1.046\n",
       "Titles_ Mrs           1.5941      0.507      3.145      0.002       0.601       2.587\n",
       "Titles_ Ms           21.3221   4.64e+04      0.000      1.000   -9.09e+04    9.09e+04\n",
       "Titles_others        -1.0974      0.632     -1.736      0.082      -2.336       0.141\n",
       "Family_cat_Large     -5.0538      1.047     -4.825      0.000      -7.107      -3.001\n",
       "Family_cat_Small     -0.0480      0.396     -0.121      0.903      -0.823       0.727\n",
       "Family_cat_Solo       1.2741      0.321      3.971      0.000       0.645       1.903\n",
       "=====================================================================================\n",
       "\"\"\""
      ]
     },
     "execution_count": 44,
     "metadata": {},
     "output_type": "execute_result"
    }
   ],
   "source": [
    "model = sma.Logit(y,subset).fit()\n",
    "model.summary()"
   ]
  },
  {
   "cell_type": "markdown",
   "id": "ce9db2eb",
   "metadata": {},
   "source": [
    "#### Now remove the high pvalues"
   ]
  },
  {
   "cell_type": "code",
   "execution_count": 45,
   "id": "6a9013f9",
   "metadata": {},
   "outputs": [],
   "source": [
    "feats = []\n",
    "\n",
    "for i in model.pvalues:\n",
    "    if i < 0.05:\n",
    "        feats.append(model.pvalues.index)\n",
    "        "
   ]
  },
  {
   "cell_type": "code",
   "execution_count": 46,
   "id": "d2983a73",
   "metadata": {},
   "outputs": [],
   "source": [
    "localdf = pd.DataFrame(model.pvalues,columns=['Pvalues']).reset_index()"
   ]
  },
  {
   "cell_type": "code",
   "execution_count": 47,
   "id": "cca81477",
   "metadata": {},
   "outputs": [],
   "source": [
    "feats = list(localdf.loc[localdf['Pvalues']<0.05,'index'])"
   ]
  },
  {
   "cell_type": "code",
   "execution_count": 48,
   "id": "abfa8e56",
   "metadata": {},
   "outputs": [
    {
     "data": {
      "text/plain": [
       "['Fare',\n",
       " 'Family',\n",
       " 'Cabin_cat_Missing',\n",
       " 'Titles_ Mr',\n",
       " 'Titles_ Mrs',\n",
       " 'Family_cat_Large',\n",
       " 'Family_cat_Solo']"
      ]
     },
     "execution_count": 48,
     "metadata": {},
     "output_type": "execute_result"
    }
   ],
   "source": [
    "feats"
   ]
  },
  {
   "cell_type": "markdown",
   "id": "cd920b2a",
   "metadata": {},
   "source": [
    "## Modelling:"
   ]
  },
  {
   "cell_type": "markdown",
   "id": "b0907f9e",
   "metadata": {},
   "source": [
    "### Model of important features"
   ]
  },
  {
   "cell_type": "markdown",
   "id": "899f0a60",
   "metadata": {},
   "source": [
    "#### Logistic Regression:"
   ]
  },
  {
   "cell_type": "code",
   "execution_count": 49,
   "id": "4f757d97",
   "metadata": {},
   "outputs": [
    {
     "name": "stdout",
     "output_type": "stream",
     "text": [
      "Optimization terminated successfully.\n",
      "         Current function value: 0.434542\n",
      "         Iterations 6\n"
     ]
    },
    {
     "data": {
      "text/html": [
       "<table class=\"simpletable\">\n",
       "<caption>Logit Regression Results</caption>\n",
       "<tr>\n",
       "  <th>Dep. Variable:</th>       <td>Survived</td>     <th>  No. Observations:  </th>  <td>   891</td>  \n",
       "</tr>\n",
       "<tr>\n",
       "  <th>Model:</th>                 <td>Logit</td>      <th>  Df Residuals:      </th>  <td>   884</td>  \n",
       "</tr>\n",
       "<tr>\n",
       "  <th>Method:</th>                 <td>MLE</td>       <th>  Df Model:          </th>  <td>     6</td>  \n",
       "</tr>\n",
       "<tr>\n",
       "  <th>Date:</th>            <td>Fri, 19 Jan 2024</td> <th>  Pseudo R-squ.:     </th>  <td>0.3474</td>  \n",
       "</tr>\n",
       "<tr>\n",
       "  <th>Time:</th>                <td>09:46:51</td>     <th>  Log-Likelihood:    </th> <td> -387.18</td> \n",
       "</tr>\n",
       "<tr>\n",
       "  <th>converged:</th>             <td>True</td>       <th>  LL-Null:           </th> <td> -593.33</td> \n",
       "</tr>\n",
       "<tr>\n",
       "  <th>Covariance Type:</th>     <td>nonrobust</td>    <th>  LLR p-value:       </th> <td>6.329e-86</td>\n",
       "</tr>\n",
       "</table>\n",
       "<table class=\"simpletable\">\n",
       "<tr>\n",
       "          <td></td>             <th>coef</th>     <th>std err</th>      <th>z</th>      <th>P>|z|</th>  <th>[0.025</th>    <th>0.975]</th>  \n",
       "</tr>\n",
       "<tr>\n",
       "  <th>Fare</th>              <td>    0.0109</td> <td>    0.003</td> <td>    4.200</td> <td> 0.000</td> <td>    0.006</td> <td>    0.016</td>\n",
       "</tr>\n",
       "<tr>\n",
       "  <th>Family</th>            <td>    0.4258</td> <td>    0.098</td> <td>    4.363</td> <td> 0.000</td> <td>    0.235</td> <td>    0.617</td>\n",
       "</tr>\n",
       "<tr>\n",
       "  <th>Cabin_cat_Missing</th> <td>   -0.9245</td> <td>    0.232</td> <td>   -3.977</td> <td> 0.000</td> <td>   -1.380</td> <td>   -0.469</td>\n",
       "</tr>\n",
       "<tr>\n",
       "  <th>Titles_ Mr</th>        <td>   -2.5722</td> <td>    0.203</td> <td>  -12.698</td> <td> 0.000</td> <td>   -2.969</td> <td>   -2.175</td>\n",
       "</tr>\n",
       "<tr>\n",
       "  <th>Titles_ Mrs</th>       <td>    0.8667</td> <td>    0.293</td> <td>    2.958</td> <td> 0.003</td> <td>    0.292</td> <td>    1.441</td>\n",
       "</tr>\n",
       "<tr>\n",
       "  <th>Family_cat_Large</th>  <td>   -4.4873</td> <td>    0.639</td> <td>   -7.018</td> <td> 0.000</td> <td>   -5.740</td> <td>   -3.234</td>\n",
       "</tr>\n",
       "<tr>\n",
       "  <th>Family_cat_Solo</th>   <td>    0.9603</td> <td>    0.219</td> <td>    4.387</td> <td> 0.000</td> <td>    0.531</td> <td>    1.389</td>\n",
       "</tr>\n",
       "</table>"
      ],
      "text/plain": [
       "<class 'statsmodels.iolib.summary.Summary'>\n",
       "\"\"\"\n",
       "                           Logit Regression Results                           \n",
       "==============================================================================\n",
       "Dep. Variable:               Survived   No. Observations:                  891\n",
       "Model:                          Logit   Df Residuals:                      884\n",
       "Method:                           MLE   Df Model:                            6\n",
       "Date:                Fri, 19 Jan 2024   Pseudo R-squ.:                  0.3474\n",
       "Time:                        09:46:51   Log-Likelihood:                -387.18\n",
       "converged:                       True   LL-Null:                       -593.33\n",
       "Covariance Type:            nonrobust   LLR p-value:                 6.329e-86\n",
       "=====================================================================================\n",
       "                        coef    std err          z      P>|z|      [0.025      0.975]\n",
       "-------------------------------------------------------------------------------------\n",
       "Fare                  0.0109      0.003      4.200      0.000       0.006       0.016\n",
       "Family                0.4258      0.098      4.363      0.000       0.235       0.617\n",
       "Cabin_cat_Missing    -0.9245      0.232     -3.977      0.000      -1.380      -0.469\n",
       "Titles_ Mr           -2.5722      0.203    -12.698      0.000      -2.969      -2.175\n",
       "Titles_ Mrs           0.8667      0.293      2.958      0.003       0.292       1.441\n",
       "Family_cat_Large     -4.4873      0.639     -7.018      0.000      -5.740      -3.234\n",
       "Family_cat_Solo       0.9603      0.219      4.387      0.000       0.531       1.389\n",
       "=====================================================================================\n",
       "\"\"\""
      ]
     },
     "execution_count": 49,
     "metadata": {},
     "output_type": "execute_result"
    }
   ],
   "source": [
    "newfeats = subset.loc[:,feats]\n",
    "\n",
    "model = sma.Logit(y,newfeats).fit()\n",
    "\n",
    "model.summary()"
   ]
  },
  {
   "cell_type": "code",
   "execution_count": 50,
   "id": "4505666e",
   "metadata": {},
   "outputs": [
    {
     "data": {
      "text/plain": [
       "Fare                 0.010875\n",
       "Family               0.425778\n",
       "Cabin_cat_Missing   -0.924455\n",
       "Titles_ Mr          -2.572236\n",
       "Titles_ Mrs          0.866743\n",
       "Family_cat_Large    -4.487282\n",
       "Family_cat_Solo      0.960324\n",
       "dtype: float64"
      ]
     },
     "execution_count": 50,
     "metadata": {},
     "output_type": "execute_result"
    }
   ],
   "source": [
    "model.params"
   ]
  },
  {
   "cell_type": "code",
   "execution_count": 51,
   "id": "f6effcc3",
   "metadata": {},
   "outputs": [
    {
     "data": {
      "text/html": [
       "<div>\n",
       "<style scoped>\n",
       "    .dataframe tbody tr th:only-of-type {\n",
       "        vertical-align: middle;\n",
       "    }\n",
       "\n",
       "    .dataframe tbody tr th {\n",
       "        vertical-align: top;\n",
       "    }\n",
       "\n",
       "    .dataframe thead th {\n",
       "        text-align: right;\n",
       "    }\n",
       "</style>\n",
       "<table border=\"1\" class=\"dataframe\">\n",
       "  <thead>\n",
       "    <tr style=\"text-align: right;\">\n",
       "      <th></th>\n",
       "      <th>Fare</th>\n",
       "      <th>Family</th>\n",
       "      <th>Cabin_cat_Missing</th>\n",
       "      <th>Titles_ Mr</th>\n",
       "      <th>Titles_ Mrs</th>\n",
       "      <th>Family_cat_Large</th>\n",
       "      <th>Family_cat_Solo</th>\n",
       "    </tr>\n",
       "  </thead>\n",
       "  <tbody>\n",
       "    <tr>\n",
       "      <th>891</th>\n",
       "      <td>7.8292</td>\n",
       "      <td>1</td>\n",
       "      <td>1</td>\n",
       "      <td>1</td>\n",
       "      <td>0</td>\n",
       "      <td>0</td>\n",
       "      <td>1</td>\n",
       "    </tr>\n",
       "  </tbody>\n",
       "</table>\n",
       "</div>"
      ],
      "text/plain": [
       "       Fare  Family  Cabin_cat_Missing  Titles_ Mr  Titles_ Mrs  \\\n",
       "891  7.8292       1                  1           1            0   \n",
       "\n",
       "     Family_cat_Large  Family_cat_Solo  \n",
       "891                 0                1  "
      ]
     },
     "execution_count": 51,
     "metadata": {},
     "output_type": "execute_result"
    }
   ],
   "source": [
    "newtest1.loc[:, feats].head(1)"
   ]
  },
  {
   "cell_type": "raw",
   "id": "f026e2f2",
   "metadata": {},
   "source": [
    "logit = model.params[0]*newtest['Fare']+model.params[1]*newtest['Family']+model.params[2]*newtest['Cabin_cat_Missing']+\\\n",
    "model.params[3]*newtest['Titles_ Mr']+model.params[4]*newtest['Titles_ Mrs']+\\\n",
    "model.params[5]*newtest['Family_cat_Large']+model.params[6]*newtest['Family_cat_Solo']"
   ]
  },
  {
   "cell_type": "code",
   "execution_count": 52,
   "id": "ea6da282",
   "metadata": {},
   "outputs": [
    {
     "data": {
      "text/plain": [
       "891    0.116557\n",
       "dtype: float64"
      ]
     },
     "execution_count": 52,
     "metadata": {},
     "output_type": "execute_result"
    }
   ],
   "source": [
    "# rop = 1/(1+np.exp(-logit))   # probability\n",
    "model.predict(newtest1.loc[:,feats].head(1))"
   ]
  },
  {
   "cell_type": "code",
   "execution_count": 53,
   "id": "b6cff96c",
   "metadata": {},
   "outputs": [],
   "source": [
    "# rop[891]"
   ]
  },
  {
   "cell_type": "code",
   "execution_count": 54,
   "id": "15d98d07",
   "metadata": {},
   "outputs": [
    {
     "data": {
      "text/html": [
       "<table class=\"simpletable\">\n",
       "<caption>Logit Regression Results</caption>\n",
       "<tr>\n",
       "  <th>Dep. Variable:</th>       <td>Survived</td>     <th>  No. Observations:  </th>  <td>   891</td>  \n",
       "</tr>\n",
       "<tr>\n",
       "  <th>Model:</th>                 <td>Logit</td>      <th>  Df Residuals:      </th>  <td>   884</td>  \n",
       "</tr>\n",
       "<tr>\n",
       "  <th>Method:</th>                 <td>MLE</td>       <th>  Df Model:          </th>  <td>     6</td>  \n",
       "</tr>\n",
       "<tr>\n",
       "  <th>Date:</th>            <td>Fri, 19 Jan 2024</td> <th>  Pseudo R-squ.:     </th>  <td>0.3474</td>  \n",
       "</tr>\n",
       "<tr>\n",
       "  <th>Time:</th>                <td>09:46:54</td>     <th>  Log-Likelihood:    </th> <td> -387.18</td> \n",
       "</tr>\n",
       "<tr>\n",
       "  <th>converged:</th>             <td>True</td>       <th>  LL-Null:           </th> <td> -593.33</td> \n",
       "</tr>\n",
       "<tr>\n",
       "  <th>Covariance Type:</th>     <td>nonrobust</td>    <th>  LLR p-value:       </th> <td>6.329e-86</td>\n",
       "</tr>\n",
       "</table>\n",
       "<table class=\"simpletable\">\n",
       "<tr>\n",
       "          <td></td>             <th>coef</th>     <th>std err</th>      <th>z</th>      <th>P>|z|</th>  <th>[0.025</th>    <th>0.975]</th>  \n",
       "</tr>\n",
       "<tr>\n",
       "  <th>Fare</th>              <td>    0.0109</td> <td>    0.003</td> <td>    4.200</td> <td> 0.000</td> <td>    0.006</td> <td>    0.016</td>\n",
       "</tr>\n",
       "<tr>\n",
       "  <th>Family</th>            <td>    0.4258</td> <td>    0.098</td> <td>    4.363</td> <td> 0.000</td> <td>    0.235</td> <td>    0.617</td>\n",
       "</tr>\n",
       "<tr>\n",
       "  <th>Cabin_cat_Missing</th> <td>   -0.9245</td> <td>    0.232</td> <td>   -3.977</td> <td> 0.000</td> <td>   -1.380</td> <td>   -0.469</td>\n",
       "</tr>\n",
       "<tr>\n",
       "  <th>Titles_ Mr</th>        <td>   -2.5722</td> <td>    0.203</td> <td>  -12.698</td> <td> 0.000</td> <td>   -2.969</td> <td>   -2.175</td>\n",
       "</tr>\n",
       "<tr>\n",
       "  <th>Titles_ Mrs</th>       <td>    0.8667</td> <td>    0.293</td> <td>    2.958</td> <td> 0.003</td> <td>    0.292</td> <td>    1.441</td>\n",
       "</tr>\n",
       "<tr>\n",
       "  <th>Family_cat_Large</th>  <td>   -4.4873</td> <td>    0.639</td> <td>   -7.018</td> <td> 0.000</td> <td>   -5.740</td> <td>   -3.234</td>\n",
       "</tr>\n",
       "<tr>\n",
       "  <th>Family_cat_Solo</th>   <td>    0.9603</td> <td>    0.219</td> <td>    4.387</td> <td> 0.000</td> <td>    0.531</td> <td>    1.389</td>\n",
       "</tr>\n",
       "</table>"
      ],
      "text/plain": [
       "<class 'statsmodels.iolib.summary.Summary'>\n",
       "\"\"\"\n",
       "                           Logit Regression Results                           \n",
       "==============================================================================\n",
       "Dep. Variable:               Survived   No. Observations:                  891\n",
       "Model:                          Logit   Df Residuals:                      884\n",
       "Method:                           MLE   Df Model:                            6\n",
       "Date:                Fri, 19 Jan 2024   Pseudo R-squ.:                  0.3474\n",
       "Time:                        09:46:54   Log-Likelihood:                -387.18\n",
       "converged:                       True   LL-Null:                       -593.33\n",
       "Covariance Type:            nonrobust   LLR p-value:                 6.329e-86\n",
       "=====================================================================================\n",
       "                        coef    std err          z      P>|z|      [0.025      0.975]\n",
       "-------------------------------------------------------------------------------------\n",
       "Fare                  0.0109      0.003      4.200      0.000       0.006       0.016\n",
       "Family                0.4258      0.098      4.363      0.000       0.235       0.617\n",
       "Cabin_cat_Missing    -0.9245      0.232     -3.977      0.000      -1.380      -0.469\n",
       "Titles_ Mr           -2.5722      0.203    -12.698      0.000      -2.969      -2.175\n",
       "Titles_ Mrs           0.8667      0.293      2.958      0.003       0.292       1.441\n",
       "Family_cat_Large     -4.4873      0.639     -7.018      0.000      -5.740      -3.234\n",
       "Family_cat_Solo       0.9603      0.219      4.387      0.000       0.531       1.389\n",
       "=====================================================================================\n",
       "\"\"\""
      ]
     },
     "execution_count": 54,
     "metadata": {},
     "output_type": "execute_result"
    }
   ],
   "source": [
    "model.summary()"
   ]
  },
  {
   "cell_type": "code",
   "execution_count": 55,
   "id": "d781a120",
   "metadata": {},
   "outputs": [
    {
     "data": {
      "text/plain": [
       "0.0763673523042484"
      ]
     },
     "execution_count": 55,
     "metadata": {},
     "output_type": "execute_result"
    }
   ],
   "source": [
    "np.exp(-2.5722)"
   ]
  },
  {
   "cell_type": "code",
   "execution_count": 56,
   "id": "d4060e54",
   "metadata": {},
   "outputs": [
    {
     "name": "stdout",
     "output_type": "stream",
     "text": [
      "Mcfadden R2: 0.3474488787775447\n"
     ]
    }
   ],
   "source": [
    "mcfadden = 1 - (model.llf/model.llnull)\n",
    "print('Mcfadden R2:',mcfadden)"
   ]
  },
  {
   "cell_type": "code",
   "execution_count": 57,
   "id": "88a5d10a",
   "metadata": {},
   "outputs": [],
   "source": [
    "L0 = np.exp(model.llnull)\n",
    "L1 = np.exp(model.llf)\n",
    "\n",
    "cox_snell = 1 - (L0/L1)**(2/newx.shape[0])"
   ]
  },
  {
   "cell_type": "code",
   "execution_count": 58,
   "id": "90cc2dcb",
   "metadata": {},
   "outputs": [
    {
     "name": "stdout",
     "output_type": "stream",
     "text": [
      "McFadden 0.3474488787775447\n",
      "Cox-Snell 0.37044416823032167\n",
      "Nagalkerke 0.5033176723723485\n"
     ]
    }
   ],
   "source": [
    "nagalkerke = cox_snell/(1-L0**(2/newx.shape[0]))\n",
    "\n",
    "print('McFadden',mcfadden)\n",
    "print('Cox-Snell',cox_snell)\n",
    "print('Nagalkerke',nagalkerke)"
   ]
  },
  {
   "cell_type": "code",
   "execution_count": 59,
   "id": "7c90eea3",
   "metadata": {},
   "outputs": [],
   "source": [
    "aic = (2*(newfeats.shape[1])) - (2*(model.llf)) # Akaike information criteria..."
   ]
  },
  {
   "cell_type": "code",
   "execution_count": 60,
   "id": "1d909e80",
   "metadata": {},
   "outputs": [
    {
     "data": {
      "text/plain": [
       "788.3531401238849"
      ]
     },
     "execution_count": 60,
     "metadata": {},
     "output_type": "execute_result"
    }
   ],
   "source": [
    "model.aic"
   ]
  },
  {
   "cell_type": "code",
   "execution_count": 61,
   "id": "199c477e",
   "metadata": {},
   "outputs": [],
   "source": [
    "from sklearn.ensemble import RandomForestClassifier,BaggingClassifier,AdaBoostClassifier,GradientBoostingClassifier,GradientBoostingClassifier,StackingClassifier,VotingClassifier\n",
    "from sklearn.metrics import classification_report,cohen_kappa_score,confusion_matrix,accuracy_score,recall_score,precision_score,f1_score,roc_auc_score,roc_curve"
   ]
  },
  {
   "cell_type": "code",
   "execution_count": 62,
   "id": "63232bce",
   "metadata": {},
   "outputs": [],
   "source": [
    "from imblearn.over_sampling import SMOTE\n",
    "from sklearn.naive_bayes import GaussianNB\n",
    "from sklearn.tree import DecisionTreeClassifier\n",
    "from sklearn.model_selection import train_test_split\n",
    "from xgboost import XGBClassifier\n",
    "from sklearn.model_selection import GridSearchCV"
   ]
  },
  {
   "cell_type": "code",
   "execution_count": 63,
   "id": "25bc2a8c",
   "metadata": {},
   "outputs": [
    {
     "data": {
      "text/plain": [
       "0    0.616162\n",
       "1    0.383838\n",
       "Name: Survived, dtype: float64"
      ]
     },
     "execution_count": 63,
     "metadata": {},
     "output_type": "execute_result"
    }
   ],
   "source": [
    "y.value_counts(normalize=True)"
   ]
  },
  {
   "cell_type": "code",
   "execution_count": 64,
   "id": "8e1c1661",
   "metadata": {},
   "outputs": [],
   "source": [
    "x = newtrain.drop(['Survived'],axis=1)\n",
    "y = newtrain.Survived.astype(int)\n",
    "x1 = pd.get_dummies(x,drop_first=True)\n",
    "\n",
    "trainx , testx , trainy, testy = train_test_split(x1,y,train_size=0.80,random_state=10,stratify=y)"
   ]
  },
  {
   "cell_type": "code",
   "execution_count": 65,
   "id": "3132b9fa",
   "metadata": {},
   "outputs": [
    {
     "name": "stdout",
     "output_type": "stream",
     "text": [
      "Chi-square test for Pclass: p-value = 4.549251711298793e-23\n",
      "Chi-square test for Sex: p-value = 1.1973570627755645e-58\n",
      "Chi-square test for SibSp: p-value = 1.5585810465902147e-06\n",
      "Chi-square test for Parch: p-value = 9.703526421039997e-05\n",
      "Chi-square test for Embarked: p-value = 2.3008626481449577e-06\n",
      "Chi-square test for Cabin_cat: p-value = 6.7419704360811776e-21\n",
      "Chi-square test for Titles: p-value = 1.9783487591671835e-59\n",
      "Chi-square test for Family: p-value = 3.579668975443533e-14\n",
      "Chi-square test for Family_cat: p-value = 2.747307908074899e-16\n"
     ]
    }
   ],
   "source": [
    "from scipy.stats import chi2_contingency\n",
    "cat_cols = x.drop(columns=['Age','Fare'])\n",
    "for column in cat_cols:\n",
    "    contingency_table = pd.crosstab(x[column], y)\n",
    "    chi2, p_value, _, _ = chi2_contingency(contingency_table)\n",
    "    print(f\"Chi-square test for {column}: p-value = {p_value}\")"
   ]
  },
  {
   "cell_type": "code",
   "execution_count": 66,
   "id": "f5888564",
   "metadata": {},
   "outputs": [
    {
     "name": "stdout",
     "output_type": "stream",
     "text": [
      "t-test for Age: p-value = 0.04300040105433479\n",
      "t-test for Fare: p-value = 6.120189341924198e-15\n"
     ]
    }
   ],
   "source": [
    "from scipy.stats import ttest_ind\n",
    "num_cols = ['Age','Fare']\n",
    "for column in num_cols:\n",
    "    group_0 = x[y == 0][column]\n",
    "    group_1 = x[y == 1][column]\n",
    "    \n",
    "    t_statistic, p_value = ttest_ind(group_0, group_1)\n",
    "    print(f\"t-test for {column}: p-value = {p_value}\")"
   ]
  },
  {
   "cell_type": "code",
   "execution_count": null,
   "id": "5411ad75",
   "metadata": {},
   "outputs": [],
   "source": []
  },
  {
   "cell_type": "code",
   "execution_count": null,
   "id": "41ca5e2d",
   "metadata": {},
   "outputs": [],
   "source": []
  },
  {
   "cell_type": "code",
   "execution_count": null,
   "id": "db2fc6cb",
   "metadata": {},
   "outputs": [],
   "source": []
  },
  {
   "cell_type": "code",
   "execution_count": 67,
   "id": "8fe908af",
   "metadata": {},
   "outputs": [],
   "source": [
    "perf_table = pd.DataFrame(columns=['Model','Test_Data','Accuracy','Precision','Recall','F1 Score','Cohen Kappa Score',])\n",
    "\n",
    "def model_perf(name,data,model,trainx,trainy,testx,testy):\n",
    "    m = model\n",
    "    m.fit(trainx,trainy)\n",
    "    ypred = m.predict(testx)\n",
    "    a = cohen_kappa_score(testy,ypred)\n",
    "    b = accuracy_score(testy,ypred)\n",
    "    c = recall_score(testy,ypred)\n",
    "    d = precision_score(testy,ypred)\n",
    "    e = f1_score(testy,ypred)\n",
    "    global perf_table\n",
    "    perf_table = perf_table.append({'Model':name,\n",
    "                                    'Test_Data':data,\n",
    "                                    'Accuracy':b,\n",
    "                                    'Recall':c,\n",
    "                                    'Precision':d,\n",
    "                                    'F1 Score':e,\n",
    "                                    'Cohen Kappa Score':a},\n",
    "                                   ignore_index = True)"
   ]
  },
  {
   "cell_type": "code",
   "execution_count": 68,
   "id": "835246b6",
   "metadata": {},
   "outputs": [],
   "source": [
    "model_perf(name='Decision Tree',data='Train',model=DecisionTreeClassifier(max_depth=5),\n",
    "          trainx=trainx,trainy=trainy,testx=trainx,testy=trainy)"
   ]
  },
  {
   "cell_type": "code",
   "execution_count": 69,
   "id": "00a4ff3f",
   "metadata": {},
   "outputs": [],
   "source": [
    "model_perf(name='Decision Tree',data='Test',model=DecisionTreeClassifier(max_depth=5),\n",
    "          trainx=trainx,trainy=trainy,testx=testx,testy=testy)"
   ]
  },
  {
   "cell_type": "code",
   "execution_count": 70,
   "id": "cc2a5a03",
   "metadata": {},
   "outputs": [],
   "source": [
    "model_perf(name='Naive Bayes',data='Train',model=GaussianNB(),\n",
    "          trainx=trainx,trainy=trainy,testx=trainx,testy=trainy)"
   ]
  },
  {
   "cell_type": "code",
   "execution_count": 71,
   "id": "7a408971",
   "metadata": {},
   "outputs": [],
   "source": [
    "model_perf(name='Naive Bayes',data='Test',model=GaussianNB(),\n",
    "          trainx=trainx,trainy=trainy,testx=testx,testy=testy)"
   ]
  },
  {
   "cell_type": "code",
   "execution_count": 72,
   "id": "5a78b80c",
   "metadata": {},
   "outputs": [],
   "source": [
    "model_perf(name='Random Forest',data='Train',model=RandomForestClassifier(n_estimators=200,max_depth=7),\n",
    "          trainx=trainx,trainy=trainy,testx=trainx,testy=trainy)"
   ]
  },
  {
   "cell_type": "code",
   "execution_count": 73,
   "id": "76b93238",
   "metadata": {},
   "outputs": [],
   "source": [
    "model_perf(name='Random Forest',data='Test',model=RandomForestClassifier(n_estimators=200,max_depth=7),\n",
    "          trainx=trainx,trainy=trainy,testx=testx,testy=testy)"
   ]
  },
  {
   "cell_type": "code",
   "execution_count": 74,
   "id": "ed221cc5",
   "metadata": {},
   "outputs": [],
   "source": [
    "model_perf(name='Adaboost',data='Train',model=AdaBoostClassifier(n_estimators=200),\n",
    "          trainx=trainx,trainy=trainy,testx=trainx,testy=trainy)"
   ]
  },
  {
   "cell_type": "code",
   "execution_count": 75,
   "id": "e2658a42",
   "metadata": {},
   "outputs": [],
   "source": [
    "model_perf(name='Adaboost',data='Test',model=AdaBoostClassifier(n_estimators=200),\n",
    "          trainx=trainx,trainy=trainy,testx=testx,testy=testy)"
   ]
  },
  {
   "cell_type": "code",
   "execution_count": 76,
   "id": "892cdfea",
   "metadata": {},
   "outputs": [],
   "source": [
    "model_perf(name='Gradient Boosting',data='Train',model=GradientBoostingClassifier(n_estimators=200,max_depth=5),\n",
    "          trainx=trainx,trainy=trainy,testx=trainx,testy=trainy)"
   ]
  },
  {
   "cell_type": "code",
   "execution_count": 77,
   "id": "728a52da",
   "metadata": {},
   "outputs": [],
   "source": [
    "model_perf(name='Gradient Boosting',data='Test',model=GradientBoostingClassifier(n_estimators=200,max_depth=5),\n",
    "          trainx=trainx,trainy=trainy,testx=testx,testy=testy)"
   ]
  },
  {
   "cell_type": "code",
   "execution_count": 78,
   "id": "6f81cc0f",
   "metadata": {},
   "outputs": [],
   "source": [
    "model_perf(name='Extreme Gradient Boosting',data='Train',model=XGBClassifier(n_estimators=300,max_depth=5),\n",
    "          trainx=trainx,trainy=trainy,testx=trainx,testy=trainy)"
   ]
  },
  {
   "cell_type": "code",
   "execution_count": 79,
   "id": "9af51ae6",
   "metadata": {},
   "outputs": [],
   "source": [
    "model_perf(name='Extreme Gradient Boosting',data='Test',model=XGBClassifier(n_estimators=300,max_depth=5),\n",
    "          trainx=trainx,trainy=trainy,testx=testx,testy=testy)"
   ]
  },
  {
   "cell_type": "code",
   "execution_count": null,
   "id": "5e453d66",
   "metadata": {},
   "outputs": [],
   "source": []
  },
  {
   "cell_type": "code",
   "execution_count": 81,
   "id": "dd1b8f3d",
   "metadata": {},
   "outputs": [],
   "source": [
    "base_estimators = [('Logistic Regression',LogisticRegression()),('Naive Bayes',GaussianNB()),\n",
    "                  ('Decision Tree',DecisionTreeClassifier(max_depth=5)),('Random Forest',RandomForestClassifier(n_estimators=200,max_depth=7))]\n",
    "model_perf(name='Voting Classifier',data='Train',model=VotingClassifier(base_estimators),trainx=trainx,trainy=trainy,\n",
    "          testx=trainx,testy=trainy)\n",
    "model_perf(name='Voting Classifier',data='Test',model=VotingClassifier(base_estimators),trainx=trainx,trainy=trainy,\n",
    "          testx=testx,testy=testy)"
   ]
  },
  {
   "cell_type": "code",
   "execution_count": 82,
   "id": "b9f6631b",
   "metadata": {},
   "outputs": [],
   "source": [
    "## Stacking algorithm\n",
    "base_estimators = [('Naive Bayes',GaussianNB()),\n",
    "                  ('Decision Tree',DecisionTreeClassifier(max_depth=5)),\n",
    "                   \n",
    "                  ('Random Forest',RandomForestClassifier(n_estimators=200,max_depth=5))]\n",
    "\n",
    "model_perf(name='Stacking-logreg',data='Train',model=StackingClassifier(estimators=base_estimators),trainx=trainx,trainy=trainy,\n",
    "          testx=trainx,testy=trainy)\n",
    "model_perf(name='Stacking-logreg',data='Test',model=StackingClassifier(estimators=base_estimators),trainx=trainx,trainy=trainy,\n",
    "          testx=testx,testy=testy)"
   ]
  },
  {
   "cell_type": "code",
   "execution_count": 84,
   "id": "1bc10e4e",
   "metadata": {},
   "outputs": [],
   "source": [
    "## Stacking algorithm\n",
    "base_estimators = [('Naive Bayes',GaussianNB()),\n",
    "                  ('Decision Tree',DecisionTreeClassifier(max_depth=5)),\n",
    "                   \n",
    "                  ('Random Forest',RandomForestClassifier(n_estimators=200,max_depth=5))]\n",
    "final_estimator = GaussianNB()\n",
    "model_perf(name='Stacking-naivebayes',data='Train',model=StackingClassifier(estimators=base_estimators,final_estimator=final_estimator),trainx=trainx,trainy=trainy,\n",
    "          testx=trainx,testy=trainy)\n",
    "model_perf(name='Stacking-naivebayes',data='Test',model=StackingClassifier(estimators=base_estimators,final_estimator=final_estimator),trainx=trainx,trainy=trainy,\n",
    "          testx=testx,testy=testy)"
   ]
  },
  {
   "cell_type": "code",
   "execution_count": 89,
   "id": "89a9bd09",
   "metadata": {},
   "outputs": [],
   "source": [
    "## Stacking algorithm\n",
    "base_estimators = [('Naive Bayes',GaussianNB()),\n",
    "                   \n",
    "                  ('Random Forest',RandomForestClassifier(n_estimators=200,max_depth=7))]\n",
    "\n",
    "model_perf(name='Stacking-logreg',data='Train',model=StackingClassifier(estimators=base_estimators),trainx=trainx,trainy=trainy,\n",
    "          testx=trainx,testy=trainy)\n",
    "model_perf(name='Stacking-logreg',data='Test',model=StackingClassifier(estimators=base_estimators),trainx=trainx,trainy=trainy,\n",
    "          testx=testx,testy=testy)"
   ]
  },
  {
   "cell_type": "code",
   "execution_count": 90,
   "id": "6d7b8318",
   "metadata": {},
   "outputs": [
    {
     "data": {
      "text/html": [
       "<div>\n",
       "<style scoped>\n",
       "    .dataframe tbody tr th:only-of-type {\n",
       "        vertical-align: middle;\n",
       "    }\n",
       "\n",
       "    .dataframe tbody tr th {\n",
       "        vertical-align: top;\n",
       "    }\n",
       "\n",
       "    .dataframe thead th {\n",
       "        text-align: right;\n",
       "    }\n",
       "</style>\n",
       "<table border=\"1\" class=\"dataframe\">\n",
       "  <thead>\n",
       "    <tr style=\"text-align: right;\">\n",
       "      <th></th>\n",
       "      <th>Model</th>\n",
       "      <th>Test_Data</th>\n",
       "      <th>Accuracy</th>\n",
       "      <th>Precision</th>\n",
       "      <th>Recall</th>\n",
       "      <th>F1 Score</th>\n",
       "      <th>Cohen Kappa Score</th>\n",
       "    </tr>\n",
       "  </thead>\n",
       "  <tbody>\n",
       "    <tr>\n",
       "      <th>0</th>\n",
       "      <td>Decision Tree</td>\n",
       "      <td>Train</td>\n",
       "      <td>0.858146</td>\n",
       "      <td>0.858333</td>\n",
       "      <td>0.754579</td>\n",
       "      <td>0.803119</td>\n",
       "      <td>0.692967</td>\n",
       "    </tr>\n",
       "    <tr>\n",
       "      <th>1</th>\n",
       "      <td>Decision Tree</td>\n",
       "      <td>Test</td>\n",
       "      <td>0.810056</td>\n",
       "      <td>0.786885</td>\n",
       "      <td>0.695652</td>\n",
       "      <td>0.738462</td>\n",
       "      <td>0.590224</td>\n",
       "    </tr>\n",
       "    <tr>\n",
       "      <th>2</th>\n",
       "      <td>Naive Bayes</td>\n",
       "      <td>Train</td>\n",
       "      <td>0.787921</td>\n",
       "      <td>0.790476</td>\n",
       "      <td>0.608059</td>\n",
       "      <td>0.687371</td>\n",
       "      <td>0.530999</td>\n",
       "    </tr>\n",
       "    <tr>\n",
       "      <th>3</th>\n",
       "      <td>Naive Bayes</td>\n",
       "      <td>Test</td>\n",
       "      <td>0.782123</td>\n",
       "      <td>0.788462</td>\n",
       "      <td>0.594203</td>\n",
       "      <td>0.677686</td>\n",
       "      <td>0.517987</td>\n",
       "    </tr>\n",
       "    <tr>\n",
       "      <th>4</th>\n",
       "      <td>Random Forest</td>\n",
       "      <td>Train</td>\n",
       "      <td>0.894663</td>\n",
       "      <td>0.926724</td>\n",
       "      <td>0.787546</td>\n",
       "      <td>0.851485</td>\n",
       "      <td>0.770705</td>\n",
       "    </tr>\n",
       "    <tr>\n",
       "      <th>5</th>\n",
       "      <td>Random Forest</td>\n",
       "      <td>Test</td>\n",
       "      <td>0.849162</td>\n",
       "      <td>0.850000</td>\n",
       "      <td>0.739130</td>\n",
       "      <td>0.790698</td>\n",
       "      <td>0.673688</td>\n",
       "    </tr>\n",
       "    <tr>\n",
       "      <th>6</th>\n",
       "      <td>Adaboost</td>\n",
       "      <td>Train</td>\n",
       "      <td>0.853933</td>\n",
       "      <td>0.816479</td>\n",
       "      <td>0.798535</td>\n",
       "      <td>0.807407</td>\n",
       "      <td>0.689784</td>\n",
       "    </tr>\n",
       "    <tr>\n",
       "      <th>7</th>\n",
       "      <td>Adaboost</td>\n",
       "      <td>Test</td>\n",
       "      <td>0.815642</td>\n",
       "      <td>0.757143</td>\n",
       "      <td>0.768116</td>\n",
       "      <td>0.762590</td>\n",
       "      <td>0.611918</td>\n",
       "    </tr>\n",
       "    <tr>\n",
       "      <th>8</th>\n",
       "      <td>Gradient Boosting</td>\n",
       "      <td>Train</td>\n",
       "      <td>0.978933</td>\n",
       "      <td>0.992366</td>\n",
       "      <td>0.952381</td>\n",
       "      <td>0.971963</td>\n",
       "      <td>0.955101</td>\n",
       "    </tr>\n",
       "    <tr>\n",
       "      <th>9</th>\n",
       "      <td>Gradient Boosting</td>\n",
       "      <td>Test</td>\n",
       "      <td>0.821229</td>\n",
       "      <td>0.784615</td>\n",
       "      <td>0.739130</td>\n",
       "      <td>0.761194</td>\n",
       "      <td>0.618540</td>\n",
       "    </tr>\n",
       "    <tr>\n",
       "      <th>10</th>\n",
       "      <td>Extreme Gradient Boosting</td>\n",
       "      <td>Train</td>\n",
       "      <td>0.976124</td>\n",
       "      <td>0.992308</td>\n",
       "      <td>0.945055</td>\n",
       "      <td>0.968105</td>\n",
       "      <td>0.949044</td>\n",
       "    </tr>\n",
       "    <tr>\n",
       "      <th>11</th>\n",
       "      <td>Extreme Gradient Boosting</td>\n",
       "      <td>Test</td>\n",
       "      <td>0.821229</td>\n",
       "      <td>0.768116</td>\n",
       "      <td>0.768116</td>\n",
       "      <td>0.768116</td>\n",
       "      <td>0.622661</td>\n",
       "    </tr>\n",
       "    <tr>\n",
       "      <th>12</th>\n",
       "      <td>Voting Classifier</td>\n",
       "      <td>Train</td>\n",
       "      <td>0.870787</td>\n",
       "      <td>0.909502</td>\n",
       "      <td>0.736264</td>\n",
       "      <td>0.813765</td>\n",
       "      <td>0.716509</td>\n",
       "    </tr>\n",
       "    <tr>\n",
       "      <th>13</th>\n",
       "      <td>Voting Classifier</td>\n",
       "      <td>Test</td>\n",
       "      <td>0.832402</td>\n",
       "      <td>0.867925</td>\n",
       "      <td>0.666667</td>\n",
       "      <td>0.754098</td>\n",
       "      <td>0.630267</td>\n",
       "    </tr>\n",
       "    <tr>\n",
       "      <th>14</th>\n",
       "      <td>Stacking-Dtree</td>\n",
       "      <td>Train</td>\n",
       "      <td>0.844101</td>\n",
       "      <td>0.821429</td>\n",
       "      <td>0.758242</td>\n",
       "      <td>0.788571</td>\n",
       "      <td>0.665414</td>\n",
       "    </tr>\n",
       "    <tr>\n",
       "      <th>15</th>\n",
       "      <td>Stacking-Dtree</td>\n",
       "      <td>Test</td>\n",
       "      <td>0.849162</td>\n",
       "      <td>0.862069</td>\n",
       "      <td>0.724638</td>\n",
       "      <td>0.787402</td>\n",
       "      <td>0.671872</td>\n",
       "    </tr>\n",
       "    <tr>\n",
       "      <th>16</th>\n",
       "      <td>Stacking-logreg</td>\n",
       "      <td>Train</td>\n",
       "      <td>0.838483</td>\n",
       "      <td>0.794776</td>\n",
       "      <td>0.780220</td>\n",
       "      <td>0.787431</td>\n",
       "      <td>0.657211</td>\n",
       "    </tr>\n",
       "    <tr>\n",
       "      <th>17</th>\n",
       "      <td>Stacking-logreg</td>\n",
       "      <td>Test</td>\n",
       "      <td>0.843575</td>\n",
       "      <td>0.815385</td>\n",
       "      <td>0.768116</td>\n",
       "      <td>0.791045</td>\n",
       "      <td>0.666223</td>\n",
       "    </tr>\n",
       "    <tr>\n",
       "      <th>18</th>\n",
       "      <td>Stacking-logreg</td>\n",
       "      <td>Train</td>\n",
       "      <td>0.839888</td>\n",
       "      <td>0.814229</td>\n",
       "      <td>0.754579</td>\n",
       "      <td>0.783270</td>\n",
       "      <td>0.656612</td>\n",
       "    </tr>\n",
       "    <tr>\n",
       "      <th>19</th>\n",
       "      <td>Stacking-logreg</td>\n",
       "      <td>Test</td>\n",
       "      <td>0.854749</td>\n",
       "      <td>0.864407</td>\n",
       "      <td>0.739130</td>\n",
       "      <td>0.796875</td>\n",
       "      <td>0.684902</td>\n",
       "    </tr>\n",
       "    <tr>\n",
       "      <th>20</th>\n",
       "      <td>Stacking-logreg</td>\n",
       "      <td>Train</td>\n",
       "      <td>0.869382</td>\n",
       "      <td>0.887931</td>\n",
       "      <td>0.754579</td>\n",
       "      <td>0.815842</td>\n",
       "      <td>0.715674</td>\n",
       "    </tr>\n",
       "    <tr>\n",
       "      <th>21</th>\n",
       "      <td>Stacking-logreg</td>\n",
       "      <td>Test</td>\n",
       "      <td>0.849162</td>\n",
       "      <td>0.862069</td>\n",
       "      <td>0.724638</td>\n",
       "      <td>0.787402</td>\n",
       "      <td>0.671872</td>\n",
       "    </tr>\n",
       "  </tbody>\n",
       "</table>\n",
       "</div>"
      ],
      "text/plain": [
       "                        Model Test_Data  Accuracy  Precision    Recall  \\\n",
       "0               Decision Tree     Train  0.858146   0.858333  0.754579   \n",
       "1               Decision Tree      Test  0.810056   0.786885  0.695652   \n",
       "2                 Naive Bayes     Train  0.787921   0.790476  0.608059   \n",
       "3                 Naive Bayes      Test  0.782123   0.788462  0.594203   \n",
       "4               Random Forest     Train  0.894663   0.926724  0.787546   \n",
       "5               Random Forest      Test  0.849162   0.850000  0.739130   \n",
       "6                    Adaboost     Train  0.853933   0.816479  0.798535   \n",
       "7                    Adaboost      Test  0.815642   0.757143  0.768116   \n",
       "8           Gradient Boosting     Train  0.978933   0.992366  0.952381   \n",
       "9           Gradient Boosting      Test  0.821229   0.784615  0.739130   \n",
       "10  Extreme Gradient Boosting     Train  0.976124   0.992308  0.945055   \n",
       "11  Extreme Gradient Boosting      Test  0.821229   0.768116  0.768116   \n",
       "12          Voting Classifier     Train  0.870787   0.909502  0.736264   \n",
       "13          Voting Classifier      Test  0.832402   0.867925  0.666667   \n",
       "14             Stacking-Dtree     Train  0.844101   0.821429  0.758242   \n",
       "15             Stacking-Dtree      Test  0.849162   0.862069  0.724638   \n",
       "16            Stacking-logreg     Train  0.838483   0.794776  0.780220   \n",
       "17            Stacking-logreg      Test  0.843575   0.815385  0.768116   \n",
       "18            Stacking-logreg     Train  0.839888   0.814229  0.754579   \n",
       "19            Stacking-logreg      Test  0.854749   0.864407  0.739130   \n",
       "20            Stacking-logreg     Train  0.869382   0.887931  0.754579   \n",
       "21            Stacking-logreg      Test  0.849162   0.862069  0.724638   \n",
       "\n",
       "    F1 Score  Cohen Kappa Score  \n",
       "0   0.803119           0.692967  \n",
       "1   0.738462           0.590224  \n",
       "2   0.687371           0.530999  \n",
       "3   0.677686           0.517987  \n",
       "4   0.851485           0.770705  \n",
       "5   0.790698           0.673688  \n",
       "6   0.807407           0.689784  \n",
       "7   0.762590           0.611918  \n",
       "8   0.971963           0.955101  \n",
       "9   0.761194           0.618540  \n",
       "10  0.968105           0.949044  \n",
       "11  0.768116           0.622661  \n",
       "12  0.813765           0.716509  \n",
       "13  0.754098           0.630267  \n",
       "14  0.788571           0.665414  \n",
       "15  0.787402           0.671872  \n",
       "16  0.787431           0.657211  \n",
       "17  0.791045           0.666223  \n",
       "18  0.783270           0.656612  \n",
       "19  0.796875           0.684902  \n",
       "20  0.815842           0.715674  \n",
       "21  0.787402           0.671872  "
      ]
     },
     "execution_count": 90,
     "metadata": {},
     "output_type": "execute_result"
    }
   ],
   "source": [
    "perf_table"
   ]
  },
  {
   "cell_type": "code",
   "execution_count": 92,
   "id": "3db8bab1",
   "metadata": {},
   "outputs": [],
   "source": [
    "def model_validation(model,trainx,trainy,testx,testy):\n",
    "    m = model\n",
    "    m.fit(trainx,trainy)\n",
    "    ypred = m.predict(testx)\n",
    "    print('1.Confusion Matrix:\\n',confusion_matrix(testy,ypred))\n",
    "    print('2.Classification report:\\n',classification_report(testy,ypred))\n",
    "    print('3.Cohen Kappa Score:',cohen_kappa_score(testy,ypred))\n",
    "    print('4.Accuracy Score:',accuracy_score(testy,ypred))"
   ]
  },
  {
   "cell_type": "code",
   "execution_count": 88,
   "id": "36d126f9",
   "metadata": {},
   "outputs": [
    {
     "name": "stdout",
     "output_type": "stream",
     "text": [
      "1.Confusion Matrix:\n",
      " [[395  44]\n",
      " [107 166]]\n",
      "2.Classification report:\n",
      "               precision    recall  f1-score   support\n",
      "\n",
      "           0       0.79      0.90      0.84       439\n",
      "           1       0.79      0.61      0.69       273\n",
      "\n",
      "    accuracy                           0.79       712\n",
      "   macro avg       0.79      0.75      0.76       712\n",
      "weighted avg       0.79      0.79      0.78       712\n",
      "\n",
      "3.Cohen Kappa Score: 0.5309986215079656\n",
      "4.Accuracy Score: 0.7879213483146067\n"
     ]
    }
   ],
   "source": [
    "model_validation(GaussianNB(),trainx,trainy,trainx,trainy)"
   ]
  },
  {
   "cell_type": "code",
   "execution_count": 89,
   "id": "2131d34f",
   "metadata": {},
   "outputs": [],
   "source": [
    "tuned_paramaters = [{'criterion': ['entropy','gini'],\n",
    "                     'max_depth': [5,10],  # 5,6,7,\n",
    "                     'max_features': [\"sqrt\", \"log2\"], # it can be either square root of the feature or log of number of features\n",
    "                     'min_samples_split': [2,5,8], # 1-3% of the total records\n",
    "                     'min_samples_leaf': [1,5,9], # 1-3% of the min_sample_split\n",
    "                     'max_leaf_nodes': [5,8]\n",
    "                     }]\n",
    "\n",
    "dt = DecisionTreeClassifier(random_state = 10)\n",
    "\n",
    "tree_grid = GridSearchCV(estimator = dt, # The estimator can be is logistic, Linear reg, decision tree\n",
    "                         param_grid = tuned_paramaters,\n",
    "                         cv = 5)"
   ]
  },
  {
   "cell_type": "code",
   "execution_count": 90,
   "id": "2ab4be0d",
   "metadata": {},
   "outputs": [
    {
     "name": "stdout",
     "output_type": "stream",
     "text": [
      "Best parameters for decision tree classifier:  {'criterion': 'gini', 'max_depth': 5, 'max_features': 'sqrt', 'max_leaf_nodes': 8, 'min_samples_leaf': 1, 'min_samples_split': 2} \n",
      "\n"
     ]
    }
   ],
   "source": [
    "tree_grid_model = tree_grid.fit(trainx, trainy)\n",
    "print('Best parameters for decision tree classifier: ', tree_grid_model.best_params_, '\\n')"
   ]
  },
  {
   "cell_type": "code",
   "execution_count": 91,
   "id": "4eb00bec",
   "metadata": {},
   "outputs": [
    {
     "name": "stdout",
     "output_type": "stream",
     "text": [
      "1.Confusion Matrix:\n",
      " [[102   8]\n",
      " [ 17  52]]\n",
      "2.Classification report:\n",
      "               precision    recall  f1-score   support\n",
      "\n",
      "           0       0.86      0.93      0.89       110\n",
      "           1       0.87      0.75      0.81        69\n",
      "\n",
      "    accuracy                           0.86       179\n",
      "   macro avg       0.86      0.84      0.85       179\n",
      "weighted avg       0.86      0.86      0.86       179\n",
      "\n",
      "3.Cohen Kappa Score: 0.6978596988724597\n",
      "4.Accuracy Score: 0.8603351955307262\n"
     ]
    }
   ],
   "source": [
    "model_validation(DecisionTreeClassifier(criterion='gini',max_depth=5,max_features='sqrt',\\\n",
    "                                        max_leaf_nodes=8,min_samples_leaf=1,min_samples_split=2)\\\n",
    "                 ,trainx,trainy,testx,testy)"
   ]
  },
  {
   "cell_type": "code",
   "execution_count": 92,
   "id": "93646c51",
   "metadata": {},
   "outputs": [
    {
     "name": "stdout",
     "output_type": "stream",
     "text": [
      "1.Confusion Matrix:\n",
      " [[101   9]\n",
      " [ 19  50]]\n",
      "2.Classification report:\n",
      "               precision    recall  f1-score   support\n",
      "\n",
      "           0       0.84      0.92      0.88       110\n",
      "           1       0.85      0.72      0.78        69\n",
      "\n",
      "    accuracy                           0.84       179\n",
      "   macro avg       0.84      0.82      0.83       179\n",
      "weighted avg       0.84      0.84      0.84       179\n",
      "\n",
      "3.Cohen Kappa Score: 0.6606635071090048\n",
      "4.Accuracy Score: 0.8435754189944135\n"
     ]
    }
   ],
   "source": [
    "model_validation(RandomForestClassifier(n_estimators=200,max_depth=7),trainx,trainy,testx,testy)"
   ]
  },
  {
   "cell_type": "code",
   "execution_count": 94,
   "id": "ded83e62",
   "metadata": {},
   "outputs": [],
   "source": [
    "gb = GaussianNB()\n",
    "gb.fit(x1,y)\n",
    "pred = gb.predict(newtest1)"
   ]
  },
  {
   "cell_type": "code",
   "execution_count": 110,
   "id": "e8f34c60",
   "metadata": {},
   "outputs": [],
   "source": [
    "sm = SMOTE()\n",
    "trainx_os , trainy_os = sm.fit_resample(trainx,trainy)"
   ]
  },
  {
   "cell_type": "code",
   "execution_count": null,
   "id": "243854b1",
   "metadata": {},
   "outputs": [],
   "source": []
  },
  {
   "cell_type": "code",
   "execution_count": 125,
   "id": "9317b87e",
   "metadata": {},
   "outputs": [
    {
     "name": "stdout",
     "output_type": "stream",
     "text": [
      "1.Confusion Matrix:\n",
      " [[101   9]\n",
      " [ 15  54]]\n",
      "2.Classification report:\n",
      "               precision    recall  f1-score   support\n",
      "\n",
      "           0       0.87      0.92      0.89       110\n",
      "           1       0.86      0.78      0.82        69\n",
      "\n",
      "    accuracy                           0.87       179\n",
      "   macro avg       0.86      0.85      0.86       179\n",
      "weighted avg       0.87      0.87      0.86       179\n",
      "\n",
      "3.Cohen Kappa Score: 0.7123342707914826\n",
      "4.Accuracy Score: 0.8659217877094972\n"
     ]
    }
   ],
   "source": [
    "base_estimators = [('Naive Bayes',GaussianNB()),\n",
    "                  ('Random Forest',RandomForestClassifier(n_estimators=200,max_depth=6))]\n",
    "model_validation(StackingClassifier(estimators=base_estimators),trainx_os,trainy_os,testx,testy)"
   ]
  },
  {
   "cell_type": "code",
   "execution_count": 126,
   "id": "6d7fe56e",
   "metadata": {},
   "outputs": [],
   "source": []
  },
  {
   "cell_type": "code",
   "execution_count": null,
   "id": "9468727f",
   "metadata": {},
   "outputs": [],
   "source": []
  },
  {
   "cell_type": "code",
   "execution_count": 95,
   "id": "f00d47f6",
   "metadata": {},
   "outputs": [],
   "source": [
    "submission = pd.DataFrame({'PassengerId':test.PassengerId,\n",
    "                          'Survived':pred})\n",
    "submission.to_csv('naivebayes.csv',index=False)"
   ]
  },
  {
   "cell_type": "code",
   "execution_count": 99,
   "id": "3d90a123",
   "metadata": {},
   "outputs": [],
   "source": [
    "rf = RandomForestClassifier(n_estimators=200,max_depth=7)\n",
    "rf.fit(x1,y)\n",
    "pred = rf.predict(newtest1)\n",
    "\n",
    "submission = pd.DataFrame({'PassengerId':test.PassengerId,\n",
    "                          'Survived':pred})\n",
    "submission.to_csv('randomforest.csv',index=False)"
   ]
  },
  {
   "cell_type": "code",
   "execution_count": 88,
   "id": "047b8789",
   "metadata": {},
   "outputs": [],
   "source": [
    "st = StackingClassifier(estimators=base_estimators)\n",
    "st.fit(x1,y)\n",
    "pred = st.predict(newtest1)\n",
    "submission = pd.DataFrame({'PassengerId':test.PassengerId,\n",
    "                          'Survived':pred})\n",
    "submission.to_csv('stacking2.csv',index=False)"
   ]
  },
  {
   "cell_type": "markdown",
   "id": "4665bc80",
   "metadata": {},
   "source": [
    "#### Apply Cat-Boost Algorithm:"
   ]
  },
  {
   "cell_type": "code",
   "execution_count": 100,
   "id": "ef1fe4c1",
   "metadata": {},
   "outputs": [],
   "source": [
    "trainx,testx,trainy,testy = train_test_split(x,y,train_size=0.80,random_state=10)"
   ]
  },
  {
   "cell_type": "code",
   "execution_count": 111,
   "id": "2a48ee0f",
   "metadata": {},
   "outputs": [
    {
     "name": "stdout",
     "output_type": "stream",
     "text": [
      "Learning rate set to 0.00472\n",
      "0:\tlearn: 0.6899940\ttotal: 52.5ms\tremaining: 1m 45s\n",
      "200:\tlearn: 0.4257966\ttotal: 54.1s\tremaining: 8m 4s\n",
      "400:\tlearn: 0.3382171\ttotal: 3m 10s\tremaining: 12m 39s\n",
      "600:\tlearn: 0.2895074\ttotal: 5m 53s\tremaining: 13m 42s\n",
      "800:\tlearn: 0.2586773\ttotal: 8m 24s\tremaining: 12m 34s\n",
      "1000:\tlearn: 0.2350601\ttotal: 11m 8s\tremaining: 11m 6s\n",
      "1200:\tlearn: 0.2154215\ttotal: 14m 25s\tremaining: 9m 35s\n",
      "1400:\tlearn: 0.1969423\ttotal: 17m 58s\tremaining: 7m 41s\n",
      "1600:\tlearn: 0.1772777\ttotal: 21m 14s\tremaining: 5m 17s\n",
      "1800:\tlearn: 0.1579872\ttotal: 24m 49s\tremaining: 2m 44s\n",
      "1999:\tlearn: 0.1387510\ttotal: 29m 9s\tremaining: 0us\n",
      "1.Confusion Matrix:\n",
      " [[412  20]\n",
      " [ 53 227]]\n",
      "2.Classification report:\n",
      "               precision    recall  f1-score   support\n",
      "\n",
      "           0       0.89      0.95      0.92       432\n",
      "           1       0.92      0.81      0.86       280\n",
      "\n",
      "    accuracy                           0.90       712\n",
      "   macro avg       0.90      0.88      0.89       712\n",
      "weighted avg       0.90      0.90      0.90       712\n",
      "\n",
      "3.Cohen Kappa Score: 0.7806031134974505\n",
      "4.Accuracy Score: 0.8974719101123596\n"
     ]
    }
   ],
   "source": [
    "from catboost import CatBoostClassifier\n",
    "cat = CatBoostClassifier(cat_features=['Sex','Embarked','Cabin_cat','Titles','Family_cat'],\\\n",
    "                         verbose=200,n_estimators=2000,max_depth=16)\n",
    "model_validation(cat,trainx,trainy,trainx,trainy)"
   ]
  },
  {
   "cell_type": "code",
   "execution_count": 112,
   "id": "59caa4da",
   "metadata": {},
   "outputs": [
    {
     "name": "stdout",
     "output_type": "stream",
     "text": [
      "Learning rate set to 0.008297\n",
      "0:\tlearn: 0.6869217\ttotal: 381ms\tremaining: 7m 37s\n",
      "200:\tlearn: 0.3531255\ttotal: 23.2s\tremaining: 1m 55s\n",
      "400:\tlearn: 0.2840996\ttotal: 48s\tremaining: 1m 35s\n",
      "600:\tlearn: 0.2464967\ttotal: 1m 11s\tremaining: 1m 10s\n",
      "800:\tlearn: 0.2165758\ttotal: 1m 37s\tremaining: 48.5s\n",
      "1000:\tlearn: 0.1892011\ttotal: 2m\tremaining: 24s\n",
      "1199:\tlearn: 0.1640716\ttotal: 2m 26s\tremaining: 0us\n"
     ]
    }
   ],
   "source": [
    "cat = CatBoostClassifier(cat_features=['Sex','Embarked','Cabin_cat','Titles','Family_cat'],\\\n",
    "                         verbose=200,n_estimators=1200,max_depth=12)\n",
    "\n",
    "cat.fit(x,y)\n",
    "pred = cat.predict(newtest)\n",
    "submission = pd.DataFrame({'PassengerId':test.PassengerId,\n",
    "                          'Survived':pred})\n",
    "submission.to_csv('catboost.csv',index=False)"
   ]
  },
  {
   "cell_type": "code",
   "execution_count": null,
   "id": "f6cad9af",
   "metadata": {},
   "outputs": [],
   "source": []
  }
 ],
 "metadata": {
  "kernelspec": {
   "display_name": "Python 3 (ipykernel)",
   "language": "python",
   "name": "python3"
  },
  "language_info": {
   "codemirror_mode": {
    "name": "ipython",
    "version": 3
   },
   "file_extension": ".py",
   "mimetype": "text/x-python",
   "name": "python",
   "nbconvert_exporter": "python",
   "pygments_lexer": "ipython3",
   "version": "3.11.3"
  }
 },
 "nbformat": 4,
 "nbformat_minor": 5
}
